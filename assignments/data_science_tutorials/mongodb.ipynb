{
 "cells": [
  {
   "cell_type": "markdown",
   "metadata": {},
   "source": [
    "We have a collection of data from Twitter which is stored in a MongoDB database.  This is stored in a collection called `tweets` in a database called `twitter`.  We will use the Python API for MongoDB - [PyMongo](https://api.mongodb.org/python/current/) to interact with our database.\n",
    "\n",
    "We connect to the database using `MongoClient`.  The first parameter is the host, the second is the port.  By default, the values are `'127.0.0.1'` and `27017`"
   ]
  },
  {
   "cell_type": "code",
   "execution_count": 11,
   "metadata": {
    "collapsed": false
   },
   "outputs": [],
   "source": [
    "from pymongo import MongoClient\n",
    "client = MongoClient('172.17.0.1', 27017)\n",
    "db = client.twitter\n"
   ]
  },
  {
   "cell_type": "markdown",
   "metadata": {},
   "source": [
    "We can connect to databases, or collections in our Mongo instance by using either Python object notation (attribute notation) or dictionary notation.  Below, we create a collection object, and then print the output of the first result in the collection"
   ]
  },
  {
   "cell_type": "code",
   "execution_count": 14,
   "metadata": {
    "collapsed": false,
    "scrolled": true
   },
   "outputs": [
    {
     "name": "stdout",
     "output_type": "stream",
     "text": [
      "{'geo_lat': 53.2, 'id_member': 235574878, 'id': 481723507731345408, 'text': 'Wind 7.0 kts SSE. Barometer 1018.43 mb  Steady. Temperature 14.8 A2�C. Rain today 4.0 mm. Humidity 85%', '_id': ObjectId('5730bf071d831d5b25f9084f'), 'timestamp': '2014-06-25 09:00:08', 'geo_lng': -3.2}\n"
     ]
    }
   ],
   "source": [
    "# Set up connection\n",
    "from pymongo import MongoClient\n",
    "client = MongoClient('172.17.0.1', 27017)\n",
    "db = client.twitter\n",
    "# Do operations on the collection\n",
    "collection = db['tweets']\n",
    "print(collection.find_one())\n"
   ]
  },
  {
   "cell_type": "markdown",
   "metadata": {},
   "source": []
  }
 ],
 "metadata": {
  "kernelspec": {
   "display_name": "Python 3",
   "language": "python",
   "name": "python3"
  },
  "language_info": {
   "codemirror_mode": {
    "name": "ipython",
    "version": 3
   },
   "file_extension": ".py",
   "mimetype": "text/x-python",
   "name": "python",
   "nbconvert_exporter": "python",
   "pygments_lexer": "ipython3",
   "version": "3.5.1"
  }
 },
 "nbformat": 4,
 "nbformat_minor": 0
}
