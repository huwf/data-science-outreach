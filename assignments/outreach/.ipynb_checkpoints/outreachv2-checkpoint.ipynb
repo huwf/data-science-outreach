{
 "cells": [
  {
   "cell_type": "markdown",
   "metadata": {},
   "source": [
    "# Outreach 2016\n",
    "\n",
    "DATE: 2016-06-06\n",
    "\n",
    "TIME: 22:08:00\n",
    "\n",
    "STATUS: URGENT\n",
    "\n",
    "CLASSIFICATION: TOP SECRET\n",
    "\n",
    "MESSAGE BEGINS.\n",
    "\n",
    "There is an exchange between two suspects at a motorway junction outside Heathrow Airport at 09:00 tomorrow morning. During this meeting, they will be transferring two parts of a secret weapon device. The transfer is secured by biometric technology, so we need the transfer to be made and apprehend the two parts together. The suspects are suspicious, and if they have any indication that we are watching them, the transfer will be aborted.\n",
    "\n",
    "Our top operative lives in Southampton. We need them to arrive at this junction as close as possible to the time of the transfer so as not to arouse suspicion.\n",
    "\n",
    "We’ve heard that you're the best upcoming talent in the leading data science department in Southampton. We need you to calculate what time they should leave. Take account of variability of traffic volume. It is better to be slightly late rather than slightly early, since we can still gain valuable intelligence from them as long as no suspicion is aroused.\n",
    "You have 4 hours.\n",
    "\n",
    "We were able to extract some information to assist in your estimation of an appropriate time, and have been able to generate some basic functions to make analysis of the data easier.  All you need to do is analyse the data.  Good luck!\n",
    "\n",
    "MESSAGE ENDS.\n"
   ]
  },
  {
   "cell_type": "markdown",
   "metadata": {},
   "source": [
    "## EXERCISE 0\n",
    "Please run the following code every time before starting the exercise.  This helps make sure that all the helper functions are in place.  You can run code by pressing `Crtl` + `Enter`, or `Shift` + `Enter` if you want to move onto the next line."
   ]
  },
  {
   "cell_type": "code",
   "execution_count": 1,
   "metadata": {
    "collapsed": true
   },
   "outputs": [],
   "source": [
    "from magic import *"
   ]
  },
  {
   "cell_type": "markdown",
   "metadata": {},
   "source": [
    "## EXERCISE 1a\n",
    "\n",
    "In groups, brainstorm how we might solve this problem."
   ]
  },
  {
   "cell_type": "markdown",
   "metadata": {},
   "source": [
    "## A Brief Introduction to Python\n",
    "\n",
    "We're going to make use of the Python programming language to solve this problem.  This section will give a bit of background about Python syntax.\n",
    "\n",
    "We will start with the concept of a variable, which is merely a representation of a changeable value.  There are a few special words which you cannot call a variable, such as `class`, otherwise most combinations of letters, numbers and underscores can be used.  Variables are case sensitive.  \n",
    "\n",
    "Run the example below by focusing on the cell, and then pressing `Crtl` + `Enter`\n"
   ]
  },
  {
   "cell_type": "code",
   "execution_count": 2,
   "metadata": {
    "collapsed": false
   },
   "outputs": [
    {
     "name": "stdout",
     "output_type": "stream",
     "text": [
      "False\n",
      "x * y = 200\n",
      "x * y = 400\n",
      "True\n"
     ]
    }
   ],
   "source": [
    "x = 10\n",
    "y = 20\n",
    "print(x == y)\n",
    "text = 'x * y =' \n",
    "print(text, (x * y))\n",
    "x = 20\n",
    "print(text, (x * y))\n",
    "print(x == y)"
   ]
  },
  {
   "cell_type": "markdown",
   "metadata": {},
   "source": [
    "There we have an example of different types of variables: integers and a string.  The string is surrounded by either `''` or `\"\"`, and can be any combination of numbers and letters.\n",
    "\n",
    "Integers are just defined as they are.  The same can be said for the `float` type, which is any real number, though very large numbers are restricted.\n",
    "\n",
    "We also used booleans, which are simple True/False values.  Boolean statements are known as conditionals, and are used to decide whether to run certain blocks of code.\n",
    "\n",
    "Finally, we are using the `print` function to output the value to the screen.  All the values we want to output are separated by the commas within parentheses.  These are called parameters, and will be used within the function.  Like a mathematical function, as these values change, so too does the output.\n",
    "\n",
    "The `print` function is a part of Python, but we can also write our own functions.  This makes it possible to logically order our code better, and to only have to write how to do a particular task once.  A function which I wrote to help for this exercise is called `get_csv`, which gets the data for the exercise which is stored in a csv file.  The parameters the function takes are:\n",
    "\n",
    "- `group_no` What number group you are.  If you are just doing on your own, pick a number between 1 and 7.\n",
    "- `year` The year as a 4 digit number, between 2012 and 2015\n",
    "- `month` The month as an integer between 1 and 12\n",
    "- `amount_of_lines` The amount of lines of the CSV file to return\n",
    "- `show_headers` Whether to show the headers of the CSV columns.  Default value: `False`\n",
    "\n",
    "Here is an example of the function in action, where it gets the first 10 lines from December 2012 for group 1.  Run it, and look at the output"
   ]
  },
  {
   "cell_type": "code",
   "execution_count": 33,
   "metadata": {
    "collapsed": false
   },
   "outputs": [],
   "source": [
    "stringy = get_csv(1, 2012, 12, 10, True)\n",
    "print(stringy)"
   ]
  },
  {
   "cell_type": "markdown",
   "metadata": {},
   "source": [
    "Experiment running the code with different values for the parameters.  You should also try values outside the ones specified, to see what happens there as well."
   ]
  },
  {
   "cell_type": "code",
   "execution_count": 4,
   "metadata": {
    "collapsed": false
   },
   "outputs": [],
   "source": [
    "# Your code goes here!\n",
    "\n"
   ]
  },
  {
   "cell_type": "markdown",
   "metadata": {},
   "source": [
    "### Blocks of Code and Booleans\n",
    "\n",
    "In Python, the indentation of code is important.  So important, that, if it is not correct it will not run at all.  Most programming environments which support Python will do this automatically, but it is important to know to expect it.\n",
    "\n",
    "Each new \"block\" of code MUST be indented by the same amount of spaces.  An important example of this is where we use an `if` statement to decide whether to run the next bit of code.  If statements evaluate the result of a boolean variable (`True` or `False`).\n",
    "\n",
    "Rather than just using `if`, we can also decide what to do in other situations.  So, we have\n",
    "\n",
    "    if .....\n",
    "    elif ....\n",
    "    else\n",
    "\n",
    "Which, in English, would be: if situation a, do something.  If situation b, do something else.  In all other situations, do something completely different.\n",
    "\n",
    "Look at the example below, and play about with the different values to see how it works.  Try and get every different outcome!\n"
   ]
  },
  {
   "cell_type": "code",
   "execution_count": 5,
   "metadata": {
    "collapsed": false
   },
   "outputs": [
    {
     "name": "stdout",
     "output_type": "stream",
     "text": [
      "If this is running, then we can relax!\n",
      "42\n",
      "x is equal to 42\n"
     ]
    }
   ],
   "source": [
    "x = 0\n",
    "if 0 == 1: # Will never run!`\n",
    "    print(\"If this is running, something has gone wrong!\")\n",
    "else:\n",
    "    print(\"If this is running, then we can relax!\")\n",
    "    x = 42\n",
    "\n",
    "print(x)\n",
    "          \n",
    "# We can use variables to make these checks as well          \n",
    "x = 42\n",
    "if x > 42:\n",
    "    print(\"x is greater than 41\")\n",
    "elif x == 42:\n",
    "    print(\"x is equal to 42\")\n",
    "else:\n",
    "    print(\"x is less than 42\")"
   ]
  },
  {
   "cell_type": "markdown",
   "metadata": {},
   "source": [
    "### Loops\n",
    "\n",
    "The final thing to know about is loops and lists.  A loop is another example of a code block, and everything within that block will be executed for a certain set of conditions.  The most common way that this might work is by working over each element in a list.\n",
    "\n",
    "Consider the example below:\n"
   ]
  },
  {
   "cell_type": "code",
   "execution_count": 34,
   "metadata": {
    "collapsed": false
   },
   "outputs": [],
   "source": [
    "listy = [1, '4', 9, 16, 25, '6 x 6', 49, 64, 81, 100, \"Have we finished yet?\", True, 0 == 1]\n",
    "\n",
    "for li in listy:    \n",
    "    print(li)\n"
   ]
  },
  {
   "cell_type": "markdown",
   "metadata": {},
   "source": [
    "This example shows you two things.  Firstly, how a list is set out - it is a series of values separated by commas.  You can also see that we can have different types of value in the list.\n",
    "\n",
    "The format for a loop is similar to English like a lot of Python which is one of the reasons for its popularity.  All that's saying is \"for each item called li in the list listy do the following things\".  In this case, we took the variable `li`, and printed it.\n",
    "\n",
    "We won't have an example of using lists and loops, because we're going to jump right in to Exercise 2, which will do exactly that!"
   ]
  },
  {
   "cell_type": "markdown",
   "metadata": {},
   "source": [
    "## EXERCISE 2a\n",
    "Compute the amount of time it will take to get from Southampton to Heathrow using data from the first observed time (07:00).  Use the functions below to help you if you wish.\n",
    "NOTE: Those with programming experience may find the alternative more challenging at [outreach_hard.ipynb](outreach_hard.ipynb)"
   ]
  },
  {
   "cell_type": "code",
   "execution_count": 7,
   "metadata": {
    "collapsed": false
   },
   "outputs": [
    {
     "name": "stdout",
     "output_type": "stream",
     "text": [
      "dict: 1, 190.32\n",
      "dict: 2, 158.85\n",
      "dict: 3, 223.14\n",
      "dict: 4, 93.21\n",
      "dict: 5, 99.45\n",
      "dict: 6, 1342.67\n",
      "dict: 7, 87.55\n",
      "dict: 8, 264.51\n",
      "dict: 9, 257.65\n",
      "dict: 10, 387.22\n",
      "dict: 11, 310.45\n",
      "dict: 12, 623.01\n",
      "dict: 13, 716.88\n",
      "Arrival time: 08:19:14\n"
     ]
    }
   ],
   "source": [
    "from magic import *\n",
    "# Run this to see the data you have\n",
    "leaving_time = '07:00'\n",
    "data = get_data(1, 2013, 1, leaving_time)[0]\n",
    "#print(\"data: %s\" % str(data))\n",
    "\n",
    "# Your code goes here!\n",
    "### ANSWER!\n",
    "total_time = 0\n",
    "for d in data:    \n",
    "    print(\"dict: %d, %s\" % (d, str(data[d])))\n",
    "\n",
    "    total_time += data[d]\n",
    "\n",
    "print(\"Arrival time: %s\" % get_arrival_time(leaving_time, total_time))\n",
    "### END ANSWER\n"
   ]
  },
  {
   "cell_type": "markdown",
   "metadata": {},
   "source": [
    "## EXERCISE 2b: \n",
    "Generalise your result to leaving every 15 minutes between 05:00 to 09:00.  You may use the function below to help if you would like, or feel free to create your own if it will be easier!"
   ]
  },
  {
   "cell_type": "code",
   "execution_count": 8,
   "metadata": {
    "collapsed": false
   },
   "outputs": [
    {
     "name": "stdout",
     "output_type": "stream",
     "text": [
      "leaving: 05:00 arriving: 05:43:39\n",
      "leaving: 05:15 arriving: 05:58:36\n",
      "leaving: 05:30 arriving: 06:14:13\n",
      "leaving: 05:45 arriving: 06:30:04\n",
      "leaving: 06:00 arriving: 06:46:36\n",
      "leaving: 06:15 arriving: 07:05:03\n",
      "leaving: 06:30 arriving: 07:26:17\n",
      "leaving: 06:45 arriving: 08:03:13\n",
      "leaving: 07:00 arriving: 08:19:14\n",
      "leaving: 07:15 arriving: 08:40:08\n",
      "leaving: 07:30 arriving: 08:52:36\n",
      "leaving: 07:45 arriving: 09:08:25\n",
      "leaving: 08:00 arriving: 09:12:40\n",
      "leaving: 08:15 arriving: 09:24:48\n",
      "leaving: 08:30 arriving: 09:31:30\n",
      "leaving: 08:45 arriving: 09:43:00\n",
      "leaving: 09:00 arriving: 09:54:43\n"
     ]
    }
   ],
   "source": [
    "# Copy your answer from EXERCISE 1a here, and make it into a function called \"calculate_arrivals\".  \n",
    "# Use that to complete this exercise\n",
    "\n",
    "def calculate_arrivals(year, month, leaving_time):\n",
    "    data = get_data(1, '%d' % year, '%d' % month, leaving_time)[0]\n",
    "    # print(\"data: %s\" % str(data))\n",
    "\n",
    "    total_time = 0\n",
    "    for d in data:\n",
    "        # print(\"dict: %d, %s\" % (d, str(data[d])))\n",
    "        total_time += data[d]\n",
    "\n",
    "    return get_arrival_time(leaving_time, total_time)\n",
    "\n",
    "\n",
    "### ANSWER\n",
    "leaving_time = '05:00'\n",
    "# TODO: Get a better loop\n",
    "for lt in range(0, 17):\n",
    "    arr = calculate_arrivals(2013, 1, leaving_time)\n",
    "    print(\"leaving: %s arriving: %s\" % (leaving_time, arr))\n",
    "    leaving_time = get_next_time(leaving_time)\n",
    "\n",
    "### END ANSWER"
   ]
  },
  {
   "cell_type": "markdown",
   "metadata": {},
   "source": [
    "## EXERCISE 2c: \n",
    "Generalise this to all days in the month, and all months.  Return the results as a dictionary in the format `{leaving_time: [list of arrival times]}`, e.g. `{'08:15': ['08:57:04', '09:16:28', ...]}`"
   ]
  },
  {
   "cell_type": "code",
   "execution_count": 9,
   "metadata": {
    "collapsed": false
   },
   "outputs": [],
   "source": [
    "### ANSWER\n",
    "def loop_calculate_arrivals():\n",
    "    arrivals_dict = {}\n",
    "\n",
    "    # TODO: Get a better loop\n",
    "    for i in range(2012, 2015):\n",
    "        for j in range(1, 12):\n",
    "            leaving_time = '05:00'\n",
    "            for lt in range(0, 17):\n",
    "                arr = calculate_arrivals(i, j, leaving_time)\n",
    "\n",
    "                if not leaving_time in arrivals_dict:\n",
    "                    arrivals_dict[leaving_time] = []\n",
    "                arrivals_dict[leaving_time].append(arr)\n",
    "\n",
    "                leaving_time = get_next_time(leaving_time)\n",
    "    return arrivals_dict\n",
    "\n",
    "arrivals_dict = loop_calculate_arrivals()\n",
    "\n",
    "for ad in arrivals_dict:\n",
    "    # print(\"Leaving at: %s\\nArriving at: %s\" % (ad, str(arrivals_dict[ad])))\n",
    "    pass\n",
    "\n",
    "    \n",
    "### END ANSWER"
   ]
  },
  {
   "cell_type": "markdown",
   "metadata": {},
   "source": [
    "## EXERCISE 3\n",
    "\n",
    "We now have a considerable amount of data, but it doesn't make any sense!  Now we need to make it make sense.  We have somewhere around 500 data points, so very cumbersome to calculate anything by hand.  Luckily, Python is good at automating these things, and has got libraries where clever people have already implemented common descriptive statistics methods far better than I could ever hope to...\n",
    "\n",
    "First of all, we're going to get the mean arrival time for each leaving time.  Dealing with time data can be difficult, so we're going to convert the arrival time into the amount of seconds since midnight.  You can use the function `get_time_in_seconds(time_str)`, where `time_str` is a time in the format HH:MM:SS.\n",
    "\n",
    "Return a dictionary of each leaving time (as a string) with the mean arrival time (in seconds), e.g., `{'07:00': 25200}`.  To do this, we will use the function `mean` function from the numpy library.  This means we will need to import `numpy`, and also use a special `numpy` data structure the array.  \n",
    "\n",
    "An array can be created from a list, by running `np.asarray`, as in the example below"
   ]
  },
  {
   "cell_type": "code",
   "execution_count": 30,
   "metadata": {
    "collapsed": false
   },
   "outputs": [],
   "source": [
    "import numpy as np\n",
    "# Create an array object \n",
    "array_obj = np.asarray([1,2,3,4])\n",
    "print(array_obj)\n",
    "\n",
    "# Get the mean of the array object:\n",
    "np.mean(array_obj)\n",
    "\n",
    "# Your code goes here!  \n",
    "# TODO: This is the answer - make sure we take it out!\n",
    "obj = loop_calculate_arrivals()\n",
    "means_output = []\n",
    "cats_output = []\n",
    "for k in obj.keys():\n",
    "    new_list = []\n",
    "    cats_output.append(datetime.datetime.strptime(k, '%H:%S'))    \n",
    "    #print(obj[k])\n",
    "    for li in obj[k]:        \n",
    "        new_list.append(get_time_in_seconds(li))\n",
    "    #print(new_list)\n",
    "    mean = np.mean(np.asarray(new_list))\n",
    "    means_output.append(mean)"
   ]
  },
  {
   "cell_type": "markdown",
   "metadata": {},
   "source": [
    "Now we have the mean, we need to visualise our output.  To do this, we will be using the Python library `pyplot`, which is part of `matplotlib`.  We want to create a bar chart, to help us visualise the overall result.  \n",
    "\n",
    "TODO: Add a bit more detail about using categorical data on plt.bar, and make the chart not look sucky."
   ]
  },
  {
   "cell_type": "code",
   "execution_count": 32,
   "metadata": {
    "collapsed": false
   },
   "outputs": [
    {
     "data": {
      "text/plain": [
       "<Container object of 17 artists>"
      ]
     },
     "execution_count": 32,
     "metadata": {},
     "output_type": "execute_result"
    },
    {
     "data": {
      "image/png": "[encoded data removed]",
      "text/plain": [
       "<matplotlib.figure.Figure at 0x7f69e53fbb38>"
      ]
     },
     "metadata": {},
     "output_type": "display_data"
    }
   ],
   "source": [
    "# Do the necessary imports\n",
    "import matplotlib.pyplot as plt\n",
    "%matplotlib inline\n",
    "    \n",
    "\n",
    "plt.bar(np.array(cats_output), np.array(means_output))\n",
    "\n",
    "\n"
   ]
  },
  {
   "cell_type": "markdown",
   "metadata": {
    "collapsed": false
   },
   "source": [
    "Now we have a simple bar chart, but it's not very useful.  For one thing, we can't easily tell which of the values on the y axis is 09:00.  We could use the function `get_time_in_seconds('09:00')` and then get an approximate idea, but we want to be more precise than that.  \n",
    "\n",
    "For another thing, the display doesn't look very professional.  The time data on the bottom are very cramped, there are no labels to indicate what the axes mean, and the chart doesn't have a title.  Luckily, `pyplot` has got many options to change the formatting of the display.  \n",
    "\n",
    "For the final part of the task, improve the layout of the chart as much as possible to generate a chart which you can show to your manager to help them reach a decision.  Use the documentation for `pyplot.bar` at [http://matplotlib.org/api/pyplot_api.html](this link)."
   ]
  },
  {
   "cell_type": "code",
   "execution_count": null,
   "metadata": {
    "collapsed": true
   },
   "outputs": [],
   "source": [
    "# Your code goes here!"
   ]
  },
  {
   "cell_type": "markdown",
   "metadata": {},
   "source": [
    "Good work agent, you have completed the task!  The data you sent back to us was vital, and we landed a significant blow against this crime syndicate.  Return to HQ for debriefing and cocktails."
   ]
  }
 ],
 "metadata": {
  "kernelspec": {
   "display_name": "Python 3",
   "language": "python",
   "name": "python3"
  },
  "language_info": {
   "codemirror_mode": {
    "name": "ipython",
    "version": 3
   },
   "file_extension": ".py",
   "mimetype": "text/x-python",
   "name": "python",
   "nbconvert_exporter": "python",
   "pygments_lexer": "ipython3",
   "version": "3.5.1"
  },
  "widgets": {
   "state": {},
   "version": "1.1.1"
  }
 },
 "nbformat": 4,
 "nbformat_minor": 0
}
