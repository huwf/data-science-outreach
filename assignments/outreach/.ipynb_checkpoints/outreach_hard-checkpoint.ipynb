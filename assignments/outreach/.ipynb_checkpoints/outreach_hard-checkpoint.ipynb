{
 "cells": [
  {
   "cell_type": "markdown",
   "metadata": {},
   "source": [
    "## Exercise 1a: Hard\n",
    "\n",
    "Whilst the model for collecting data will get us what we want is a good start, it makes one big assumption: That the time segment we are in will remain the same for the whole journey.  More accurate results could be obtained if you keep track of the amount of time each bit of the journey takes.\n",
    "\n",
    "For example, suppose you leave at 07:00, and the first segment is 16 minutes.  For the second segment, you should use the estimated time for 07:15.\n",
    "\n",
    "You may assume that the entirety of the time on any one segment is the one you left in.  Should you wish to expand the model even further in some way you may do so, provided that you document it (good practice anyway!)\n",
    "\n",
    "You should still use the other exercise sheet, but make sure you add `hard=True` as a parameter so you get all the data you need."
   ]
  },
  {
   "cell_type": "code",
   "execution_count": 2,
   "metadata": {
    "collapsed": false
   },
   "outputs": [
    {
     "ename": "KeyError",
     "evalue": "'07:0'",
     "output_type": "error",
     "traceback": [
      "\u001b[1;31m\u001b[0m",
      "\u001b[1;31mKeyError\u001b[0mTraceback (most recent call last)",
      "\u001b[1;32m<ipython-input-2-6a46603f906a>\u001b[0m in \u001b[0;36m<module>\u001b[1;34m()\u001b[0m\n\u001b[0;32m     47\u001b[0m             \u001b[0mmonth_data\u001b[0m \u001b[1;33m=\u001b[0m \u001b[0mget_data\u001b[0m\u001b[1;33m(\u001b[0m\u001b[0mk\u001b[0m\u001b[1;33m,\u001b[0m \u001b[0mi\u001b[0m\u001b[1;33m,\u001b[0m \u001b[0mj\u001b[0m\u001b[1;33m,\u001b[0m \u001b[1;34m'07:00'\u001b[0m\u001b[1;33m,\u001b[0m \u001b[0mhard\u001b[0m\u001b[1;33m=\u001b[0m\u001b[1;32mTrue\u001b[0m\u001b[1;33m)\u001b[0m\u001b[1;33m\u001b[0m\u001b[0m\n\u001b[0;32m     48\u001b[0m             \u001b[1;32mfor\u001b[0m \u001b[0md\u001b[0m \u001b[1;32min\u001b[0m \u001b[0mmonth_data\u001b[0m\u001b[1;33m:\u001b[0m\u001b[1;33m\u001b[0m\u001b[0m\n\u001b[1;32m---> 49\u001b[1;33m                 \u001b[0mtotal_time_list\u001b[0m\u001b[1;33m.\u001b[0m\u001b[0mappend\u001b[0m\u001b[1;33m(\u001b[0m\u001b[0mcalculate_route_time\u001b[0m\u001b[1;33m(\u001b[0m\u001b[1;34m'07:00'\u001b[0m\u001b[1;33m,\u001b[0m \u001b[0md\u001b[0m\u001b[1;33m)\u001b[0m\u001b[1;33m)\u001b[0m\u001b[1;33m\u001b[0m\u001b[0m\n\u001b[0m\u001b[0;32m     50\u001b[0m \u001b[1;31m# total_time_list\u001b[0m\u001b[1;33m\u001b[0m\u001b[1;33m\u001b[0m\u001b[0m\n",
      "\u001b[1;32m<ipython-input-2-6a46603f906a>\u001b[0m in \u001b[0;36mcalculate_route_time\u001b[1;34m(leaving_time, data)\u001b[0m\n\u001b[0;32m     26\u001b[0m     \u001b[1;31m#print(\"current_time\", current_time)\u001b[0m\u001b[1;33m\u001b[0m\u001b[1;33m\u001b[0m\u001b[0m\n\u001b[0;32m     27\u001b[0m     \u001b[1;32mfor\u001b[0m \u001b[0mi\u001b[0m \u001b[1;32min\u001b[0m \u001b[0mrange\u001b[0m\u001b[1;33m(\u001b[0m\u001b[1;36m1\u001b[0m\u001b[1;33m,\u001b[0m\u001b[1;36m14\u001b[0m\u001b[1;33m)\u001b[0m\u001b[1;33m:\u001b[0m\u001b[1;33m\u001b[0m\u001b[0m\n\u001b[1;32m---> 28\u001b[1;33m         \u001b[0mroute_times\u001b[0m \u001b[1;33m=\u001b[0m \u001b[0mdata\u001b[0m\u001b[1;33m[\u001b[0m\u001b[0msegment\u001b[0m\u001b[1;33m]\u001b[0m\u001b[1;33m\u001b[0m\u001b[0m\n\u001b[0m\u001b[0;32m     29\u001b[0m         \u001b[0msecs\u001b[0m \u001b[1;33m=\u001b[0m \u001b[0mroute_times\u001b[0m\u001b[1;33m[\u001b[0m\u001b[0mi\u001b[0m\u001b[1;33m]\u001b[0m\u001b[1;33m\u001b[0m\u001b[0m\n\u001b[0;32m     30\u001b[0m         \u001b[0mtotal_time\u001b[0m \u001b[1;33m+=\u001b[0m \u001b[0msecs\u001b[0m\u001b[1;33m\u001b[0m\u001b[0m\n",
      "\u001b[1;31mKeyError\u001b[0m: '07:0'"
     ]
    }
   ],
   "source": [
    "from magic import *\n",
    "from datetime import datetime\n",
    "from datetime import timedelta\n",
    "\n",
    "\n",
    "def get_time_segment(string_time):\n",
    "    \"\"\"\n",
    "    string_time should be 07:00\n",
    "    \"\"\"\n",
    "    split_string_time = string_time.split(':')\n",
    "    hours = split_string_time[0]\n",
    "    minutes = int(split_string_time[1])\n",
    "    #print(\"minutes: %d\" % minutes)\n",
    "    times = [0, 15, 30, 45]\n",
    "    for i in range(0,4):\n",
    "#         print(i)\n",
    "        if minutes < times[i]:\n",
    "            return '%s:%s' % (hours, str(times[i-1]))\n",
    "    \n",
    "    return '%s:%s' % (hours, '45')\n",
    "            \n",
    "def calculate_route_time(leaving_time, data):\n",
    "    current_time = datetime.strptime(leaving_time.strip(), \"%H:%M\")\n",
    "    segment = leaving_time\n",
    "    total_time = 0\n",
    "    #print(\"current_time\", current_time)\n",
    "    for i in range(1,14):\n",
    "        route_times = data[segment]\n",
    "        secs = route_times[i]\n",
    "        total_time += secs    \n",
    "        #print(\"total_time\", total_time)\n",
    "        current_time += timedelta(seconds=int(secs))\n",
    "        #print(\"current_time\", current_time)\n",
    "        segment = get_time_segment(datetime.strftime(current_time, '%H:%M'))\n",
    "        #print(\"segment\", segment)\n",
    "        if len(segment) == 4:\n",
    "            segment += '0'\n",
    "\n",
    "    #print('total_time', total_time)\n",
    "    return total_time\n",
    "    \n",
    "    \n",
    "total_time_list = []\n",
    "for i in range(2012, 2015):\n",
    "    for j in range(1, 12):\n",
    "        for k in range(1, 8):\n",
    "            month_data = get_data(k, i, j, '07:00', hard=True)\n",
    "            for d in month_data:\n",
    "                total_time_list.append(calculate_route_time('07:00', d))\n",
    "# total_time_list    \n"
   ]
  },
  {
   "cell_type": "code",
   "execution_count": null,
   "metadata": {
    "collapsed": true
   },
   "outputs": [],
   "source": []
  }
 ],
 "metadata": {
  "kernelspec": {
   "display_name": "Python 3",
   "language": "python",
   "name": "python3"
  },
  "language_info": {
   "codemirror_mode": {
    "name": "ipython",
    "version": 3
   },
   "file_extension": ".py",
   "mimetype": "text/x-python",
   "name": "python",
   "nbconvert_exporter": "python",
   "pygments_lexer": "ipython3",
   "version": "3.5.1"
  },
  "widgets": {
   "state": {},
   "version": "1.1.1"
  }
 },
 "nbformat": 4,
 "nbformat_minor": 0
}
