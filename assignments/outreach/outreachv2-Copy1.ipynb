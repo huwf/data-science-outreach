{
 "cells": [
  {
   "cell_type": "markdown",
   "metadata": {},
   "source": [
    "# Outreach 2016\n",
    "\n",
    "DATE: 2016-06-06\n",
    "\n",
    "TIME: 22:08:00\n",
    "\n",
    "STATUS: URGENT\n",
    "\n",
    "CLASSIFICATION: TOP SECRET\n",
    "\n",
    "MESSAGE BEGINS.\n",
    "\n",
    "There is an exchange between two suspects at a motorway junction outside Heathrow Airport at 09:00 tomorrow morning. During this meeting, they will be transferring two parts of a secret weapon device. The transfer is secured by biometric technology, so we need the transfer to be made and apprehend the two parts together. The suspects are suspicious, and if they have any indication that we are watching them, the transfer will be aborted.\n",
    "\n",
    "Our top operative lives in Southampton. We need them to arrive at this junction as close as possible to the time of the transfer so as not to arouse suspicion.\n",
    "\n",
    "We’ve heard that you're the best upcoming talent in the leading data science department in Southampton. We need you to calculate what time they should leave. Take account of variability of traffic volume. It is better to be slightly late rather than slightly early, since we can still gain valuable intelligence from them as long as no suspicion is aroused.\n",
    "You have 4 hours.\n",
    "\n",
    "We were able to extract some information to assist in your estimation of an appropriate time, and have been able to generate some basic functions to make analysis of the data easier.  All you need to do is analyse the data.  Good luck!\n",
    "\n",
    "MESSAGE ENDS.\n"
   ]
  },
  {
   "cell_type": "markdown",
   "metadata": {},
   "source": [
    "## EXERCISE 0\n",
    "\n",
    "In groups, brainstorm how we might solve this problem."
   ]
  },
  {
   "cell_type": "markdown",
   "metadata": {},
   "source": [
    "## EXERCISE 1\n",
    "Please run the following code every time before starting the exercise.  This helps make sure that all the helper functions are in place.  You can run code by pressing `Crtl` + `Enter`, or `Shift` + `Enter` if you want to move onto the next line."
   ]
  },
  {
   "cell_type": "code",
   "execution_count": 1,
   "metadata": {
    "collapsed": false
   },
   "outputs": [],
   "source": [
    "from magic import *"
   ]
  },
  {
   "cell_type": "markdown",
   "metadata": {},
   "source": [
    "## EXERCISE 2a\n",
    "Compute the amount of time it will take to get from Southampton to Heathrow using data from the first observed time (07:00).  Use the functions below to help you if you wish.\n",
    "\n",
    "Never used Python before?  Don't worry, check out [Python crash course](python_intro.ipynb) before you get started.\n",
    "\n",
    "Experienced programmer?  You might find [outreach_hard.ipynb](outreach_hard.ipynb) more interesting"
   ]
  },
  {
   "cell_type": "code",
   "execution_count": 2,
   "metadata": {
    "collapsed": false
   },
   "outputs": [
    {
     "name": "stdout",
     "output_type": "stream",
     "text": [
      "dict: 1, 190.32\n",
      "dict: 2, 158.85\n",
      "dict: 3, 223.14\n",
      "dict: 4, 93.21\n",
      "dict: 5, 99.45\n",
      "dict: 6, 1342.67\n",
      "dict: 7, 87.55\n",
      "dict: 8, 264.51\n",
      "dict: 9, 257.65\n",
      "dict: 10, 387.22\n",
      "dict: 11, 310.45\n",
      "dict: 12, 623.01\n",
      "dict: 13, 716.88\n",
      "Arrival time: 08:19:14\n"
     ]
    }
   ],
   "source": [
    "from magic import *\n",
    "# Run this to see the data you have\n",
    "leaving_time = '07:00'\n",
    "data = get_data(1, 2013, 1, leaving_time)[0]\n",
    "\n",
    "# Your code goes here!\n",
    "### TODO: ANSWER, remove it!\n",
    "total_time = 0\n",
    "for d in data:    \n",
    "    print(\"dict: %d, %s\" % (d, str(data[d])))\n",
    "\n",
    "    total_time += data[d]\n",
    "\n",
    "print(\"Arrival time: %s\" % get_arrival_time(leaving_time, total_time))\n",
    "### END ANSWER\n"
   ]
  },
  {
   "cell_type": "markdown",
   "metadata": {},
   "source": [
    "## EXERCISE 2b: \n",
    "Generalise your result to leaving every 15 minutes between 05:00 to 09:00.  You may use the function below to help if you would like, or feel free to create your own if it will be easier!"
   ]
  },
  {
   "cell_type": "code",
   "execution_count": 3,
   "metadata": {
    "collapsed": false
   },
   "outputs": [],
   "source": [
    "# Copy your answer from EXERCISE 1a here, and make it into a function called \"calculate_arrivals\".  \n",
    "# Use that to complete this exercise\n",
    "\n",
    "def calculate_arrivals(year, month, leaving_time):\n",
    "    data = get_data(1, '%d' % year, '%d' % month, leaving_time)[0]\n",
    "    # print(\"data: %s\" % str(data))\n",
    "\n",
    "    total_time = 0\n",
    "    for d in data:\n",
    "        # print(\"dict: %d, %s\" % (d, str(data[d])))\n",
    "        total_time += data[d]\n",
    "\n",
    "    return get_arrival_time(leaving_time, total_time)\n",
    "\n",
    "\n",
    "### ANSWER\n",
    "leaving_time = '05:00'\n",
    "# TODO: Get a better loop\n",
    "for lt in range(0, 17):\n",
    "    arr = calculate_arrivals(2013, 1, leaving_time)\n",
    "    #print(\"leaving: %s arriving: %s\" % (leaving_time, arr))\n",
    "    leaving_time = get_next_time(leaving_time)\n",
    "\n",
    "### END ANSWER"
   ]
  },
  {
   "cell_type": "markdown",
   "metadata": {},
   "source": [
    "## EXERCISE 2c: \n",
    "Generalise this to all days in the month, and all months.  Return the results as a dictionary in the format `{leaving_time: [list of arrival times]}`, e.g. `{'08:15': ['08:57:04', '09:16:28', ...]}`"
   ]
  },
  {
   "cell_type": "code",
   "execution_count": 4,
   "metadata": {
    "collapsed": false
   },
   "outputs": [],
   "source": [
    "### ANSWER\n",
    "def loop_calculate_arrivals():\n",
    "    arrivals_dict = {}\n",
    "\n",
    "    # TODO: Get a better loop\n",
    "    for i in range(2012, 2015):\n",
    "        for j in range(1, 12):\n",
    "            leaving_time = '05:00'\n",
    "            for lt in range(0, 17):\n",
    "                arr = calculate_arrivals(i, j, leaving_time)\n",
    "\n",
    "                if not leaving_time in arrivals_dict:\n",
    "                    arrivals_dict[leaving_time] = []\n",
    "                arrivals_dict[leaving_time].append(arr)\n",
    "\n",
    "                leaving_time = get_next_time(leaving_time)\n",
    "    return arrivals_dict\n",
    "\n",
    "arrivals_dict = loop_calculate_arrivals()\n",
    "\n",
    "for ad in arrivals_dict:\n",
    "    # print(\"Leaving at: %s\\nArriving at: %s\" % (ad, str(arrivals_dict[ad])))\n",
    "    pass\n",
    "\n",
    "    \n",
    "### END ANSWER"
   ]
  },
  {
   "cell_type": "markdown",
   "metadata": {},
   "source": [
    "## EXERCISE 3\n",
    "\n",
    "We now have a considerable amount of data, but it doesn't make any sense!  Now we need to make it make sense.  We have somewhere around 500 data points, so very cumbersome to calculate anything by hand.  Luckily, Python is good at automating these things, and has got libraries where clever people have already implemented common descriptive statistics methods far better than I could ever hope to...\n",
    "\n",
    "The technique we are going to use to solve this is linear regression.  \n",
    "\n",
    "\n",
    "## EXERCISE 3a\n",
    "First of all, we're going to get the mean arrival time for each leaving time.  Dealing with time data can be difficult, so we're going to convert the arrival time into the amount of seconds since midnight.  Use the function `get_time_in_seconds(time_str)`, which performs this calculation for you and `time_str` is a time in the format HH:MM:SS.\n",
    "\n",
    "Return a dictionary of each leaving time (as a string) with the mean arrival time (in seconds), e.g., `{'07:00': 25200}`.  To do this, we will use the `mean` function from the numpy library.  This means we will need to import `numpy`, and also use a special `numpy` data structure the array.  \n",
    "\n",
    "An array can be created from a list, by running `np.asarray`, as in the example below"
   ]
  },
  {
   "cell_type": "code",
   "execution_count": 5,
   "metadata": {
    "collapsed": false
   },
   "outputs": [
    {
     "name": "stdout",
     "output_type": "stream",
     "text": [
      "[1, 2, 3, 4] <class 'list'>\n",
      "[1 2 3 4] <class 'numpy.ndarray'>\n"
     ]
    },
    {
     "data": {
      "text/plain": [
       "2.5"
      ]
     },
     "execution_count": 5,
     "metadata": {},
     "output_type": "execute_result"
    }
   ],
   "source": [
    "import numpy as np\n",
    "# Create an array object \n",
    "listy = [1, 2, 3, 4]\n",
    "array_obj = np.asarray(listy)\n",
    "print(listy, type(listy))\n",
    "print(array_obj, type(array_obj))\n",
    "\n",
    "# Get the mean of the array object:\n",
    "np.mean(array_obj)"
   ]
  },
  {
   "cell_type": "code",
   "execution_count": 6,
   "metadata": {
    "collapsed": false
   },
   "outputs": [
    {
     "name": "stdout",
     "output_type": "stream",
     "text": [
      "[30600, 32400, 26100, 27900, 18900, 23400, 28800, 21600, 27000, 31500, 19800, 29700, 22500, 18000, 25200, 24300, 20700]\n",
      "[33995.36363636364, 35437.727272727272, 30206.303030303032, 31896.909090909092, 21551.575757575756, 26724.242424242424, 32593.39393939394, 24357.21212121212, 31099.909090909092, 34658.393939393936, 22457.424242424244, 33329.515151515152, 25482.303030303032, 20666.78787878788, 29156.39393939394, 28009.78787878788, 23378.60606060606]\n"
     ]
    }
   ],
   "source": [
    "# Your code goes here!  \n",
    "# TODO: This is the answer - make sure we take it out!\n",
    "obj = loop_calculate_arrivals()\n",
    "means_output = []\n",
    "cats_output = []\n",
    "for k in obj.keys():\n",
    "    new_list = []\n",
    "    #cats_output.append(datetime.datetime.strptime(k, '%H:%S').timestamp())\n",
    "    cats_output.append(get_time_in_seconds(k))\n",
    "    #print(obj[k])\n",
    "    for li in obj[k]:        \n",
    "        new_list.append(get_time_in_seconds(li))\n",
    "    #print(new_list)\n",
    "    mean = np.mean(np.asarray(new_list))\n",
    "    means_output.append(mean)\n",
    "print(cats_output)\n",
    "print(means_output)"
   ]
  },
  {
   "cell_type": "markdown",
   "metadata": {},
   "source": [
    "## EXERCISE 3b\n",
    "\n",
    "Now we have the mean, we are going to visualise our output.  To do this, we will be using the Python library `pyplot`, which is part of `matplotlib`.  We want to create a scatterplot which has the leaving time as the predictor variable, and the arrival time as the response variable.  \n",
    "\n",
    "Use the `plt.scatter` function to create a scatterplot to visualise our times.  This function takes as its first two parameters:\n",
    "\n",
    "* A list of values for the X axis\n",
    "* A list of values for tye Y axis\n",
    "\n",
    "Use the values obtained from Exercise 3a to do this."
   ]
  },
  {
   "cell_type": "code",
   "execution_count": 7,
   "metadata": {
    "collapsed": false
   },
   "outputs": [],
   "source": [
    "# Do the necessary imports\n",
    "import matplotlib.pyplot as plt\n",
    "%matplotlib inline"
   ]
  },
  {
   "cell_type": "code",
   "execution_count": 8,
   "metadata": {
    "collapsed": false
   },
   "outputs": [
    {
     "data": {
      "text/plain": [
       "<matplotlib.collections.PathCollection at 0x7fceec137cc0>"
      ]
     },
     "execution_count": 8,
     "metadata": {},
     "output_type": "execute_result"
    },
    {
     "data": {
      "image/png": "[encoded data removed]",
      "text/plain": [
       "<matplotlib.figure.Figure at 0x7fcf0da04470>"
      ]
     },
     "metadata": {},
     "output_type": "display_data"
    }
   ],
   "source": [
    "\n",
    "\n",
    "#plt.bar(np.array(cats_output), np.array(means_output))\n",
    "\n",
    "plt.scatter(cats_output, means_output)\n"
   ]
  },
  {
   "cell_type": "markdown",
   "metadata": {},
   "source": [
    "## EXERCISE 3c\n",
    "\n",
    "Having done this, we now need to calculate the regression equation, so we can determine the optimal time for leaving.  The graph may look a bit rough at the moment, but that's okay.  We will fix that soon!\n",
    "\n",
    "There is a function in scipy called `linregress` which will calculate the regression line for us.  This takes the "
   ]
  },
  {
   "cell_type": "markdown",
   "metadata": {
    "collapsed": false
   },
   "source": [
    "Now we have a simple bar chart, but it's not very useful.  For one thing, we can't easily tell which of the values on the y axis is 09:00.  We could use the function `get_time_in_seconds('09:00')` and then get an approximate idea, but we want to be more precise than that.  \n",
    "\n",
    "For another thing, the display doesn't look very professional.  The time data on the bottom are very cramped, there are no labels to indicate what the axes mean, and the chart doesn't have a title.  Luckily, `pyplot` has got many options to change the formatting of the display.  \n",
    "\n",
    "For the final part of the task, improve the layout of the chart as much as possible to generate a chart which you can show to your manager to help them reach a decision.  Use the documentation for `pyplot.bar` at [this link(http://matplotlib.org/api/pyplot_api.html)."
   ]
  },
  {
   "cell_type": "code",
   "execution_count": 12,
   "metadata": {
    "collapsed": false
   },
   "outputs": [
    {
     "data": {
      "text/plain": [
       "LinregressResult(slope=1.0676302238066944, intercept=1625.2388591800409, rvalue=0.99562921918628267, pvalue=7.296775232929059e-17, stderr=0.02585812543181892)"
      ]
     },
     "execution_count": 12,
     "metadata": {},
     "output_type": "execute_result"
    }
   ],
   "source": [
    "# Your code goes here!\n",
    "from scipy import stats\n",
    "stats.linregress(cats_output, means_output)\n"
   ]
  },
  {
   "cell_type": "markdown",
   "metadata": {},
   "source": [
    "Good work agent, you have completed the task!  The data you sent back to us was vital, and we landed a significant blow against this crime syndicate.  Return to HQ for debriefing and cocktails."
   ]
  }
 ],
 "metadata": {
  "kernelspec": {
   "display_name": "Python 3",
   "language": "python",
   "name": "python3"
  },
  "language_info": {
   "codemirror_mode": {
    "name": "ipython",
    "version": 3
   },
   "file_extension": ".py",
   "mimetype": "text/x-python",
   "name": "python",
   "nbconvert_exporter": "python",
   "pygments_lexer": "ipython3",
   "version": "3.5.1+"
  },
  "widgets": {
   "state": {},
   "version": "1.1.1"
  }
 },
 "nbformat": 4,
 "nbformat_minor": 0
}
