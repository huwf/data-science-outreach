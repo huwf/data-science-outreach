{
 "cells": [
  {
   "cell_type": "markdown",
   "metadata": {},
   "source": [
    "## Exercise 2a: Hard\n",
    "\n",
    "Whilst the model for collecting data will get us what we want is a good start, it makes one big assumption: That the time segment we are in will remain the same for the whole journey.  More accurate results could be obtained if you keep track of the amount of time each bit of the journey takes.\n",
    "\n",
    "For example, suppose you leave at 07:00, and the first segment is 16 minutes.  For the second segment, you should use the estimated time for 07:15.\n",
    "\n",
    "You may assume that the entirety of the time on any one segment is the one you left in.  Should you wish to expand the model even further in some way you may do so, provided that you document it (good practice anyway!)\n",
    "\n",
    "You should still use the other exercise sheet, but make sure you add `hard=True` as a parameter so you get all the data you need."
   ]
  },
  {
   "cell_type": "code",
   "execution_count": 28,
   "metadata": {
    "collapsed": false
   },
   "outputs": [],
   "source": [
    "from magic import *\n",
    "from datetime import datetime\n",
    "from datetime import timedelta\n",
    "\n",
    "\n",
    "def get_time_segment(string_time):\n",
    "    \"\"\"\n",
    "    string_time should be 07:00 format\n",
    "    \"\"\"\n",
    "    split_string_time = string_time.split(':')\n",
    "    hours = split_string_time[0]\n",
    "    minutes = int(split_string_time[1])\n",
    "    #print(\"minutes: %d\" % minutes)\n",
    "    times = [0, 15, 30, 45]\n",
    "    for i in range(0,4):\n",
    "        if minutes < times[i]:\n",
    "            return '%s:%s' % (hours, str(times[i-1]))\n",
    "    \n",
    "    return '%s:%s' % (hours, '45')\n",
    "\n",
    "\n",
    "# Your code goes here!\n"
   ]
  }
 ],
 "metadata": {
  "kernelspec": {
   "display_name": "Python 2",
   "language": "python",
   "name": "python2"
  },
  "language_info": {
   "codemirror_mode": {
    "name": "ipython",
    "version": 2
   },
   "file_extension": ".py",
   "mimetype": "text/x-python",
   "name": "python",
   "nbconvert_exporter": "python",
   "pygments_lexer": "ipython2",
   "version": "2.7.11"
  },
  "widgets": {
   "state": {},
   "version": "1.1.1"
  }
 },
 "nbformat": 4,
 "nbformat_minor": 0
}
