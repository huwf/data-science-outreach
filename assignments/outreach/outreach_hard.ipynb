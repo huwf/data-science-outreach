{
 "cells": [
  {
   "cell_type": "markdown",
   "metadata": {},
   "source": [
    "## Exercise 2a: Hard\n",
    "\n",
    "Whilst the model for collecting data will get us what we want is a good start, it makes one big assumption: That the time segment we are in will remain the same for the whole journey.  More accurate results could be obtained if you keep track of the amount of time each bit of the journey takes.\n",
    "\n",
    "For example, suppose you leave at 07:00, and the first segment is 16 minutes.  For the second segment, you should use the estimated time for 07:15.\n",
    "\n",
    "You may assume that the entirety of the time on any one segment is the one you left in.  Should you wish to expand the model even further in some way you may do so, provided that you document it (good practice anyway!)\n",
    "\n",
    "You should still use the other exercise sheet, but make sure you add `hard=True` as a parameter so you get all the data you need."
   ]
  },
  {
   "cell_type": "code",
   "execution_count": 28,
   "metadata": {
    "collapsed": false
   },
   "outputs": [],
   "source": [
    "from magic import *\n",
    "from datetime import datetime\n",
    "from datetime import timedelta\n",
    "\n",
    "\n",
    "def get_time_segment(string_time):\n",
    "    \"\"\"\n",
    "    string_time should be 07:00 format\n",
    "    \"\"\"\n",
    "    split_string_time = string_time.split(':')\n",
    "    hours = split_string_time[0]\n",
    "    minutes = int(split_string_time[1])\n",
    "    #print(\"minutes: %d\" % minutes)\n",
    "    times = [0, 15, 30, 45]\n",
    "    for i in range(0,4):\n",
    "#         print(i)\n",
    "        if minutes < times[i]:\n",
    "            return '%s:%s' % (hours, str(times[i-1]))\n",
    "    \n",
    "    return '%s:%s' % (hours, '45')\n",
    "            \n",
    "def calculate_route_time(leaving_time, data):\n",
    "    current_time = datetime.strptime(leaving_time.strip(), \"%H:%M\")\n",
    "    segment = leaving_time\n",
    "    total_time = 0\n",
    "    #print(\"current_time\", current_time)\n",
    "    for i in range(1,14):\n",
    "        route_times = data[segment]\n",
    "        secs = route_times[i]\n",
    "        total_time += secs    \n",
    "        #print(\"total_time\", total_time)\n",
    "        current_time += timedelta(seconds=int(secs))\n",
    "        #print(\"current_time\", current_time)\n",
    "        segment = get_time_segment(datetime.strftime(current_time, '%H:%M'))\n",
    "        #print(\"segment\", segment)\n",
    "        if len(segment) == 4:\n",
    "            segment += '0'\n",
    "\n",
    "    #print('total_time', total_time)\n",
    "    return total_time\n",
    "    \n",
    "\n",
    "def calculate_distribution(leaving_time):\n",
    "    total_time_list = []\n",
    "    for i in range(2012, 2015):\n",
    "        for j in range(1, 12):            \n",
    "            for k in range(1,8):\n",
    "                month_data = get_data(1, i, j, leaving_time, hard=True)\n",
    "                for d in month_data:\n",
    "                    total_time = calculate_route_time(leaving_time, d)            \n",
    "                    total_time_list.append(total_time + get_time_in_seconds('%s:00' % leaving_time))\n",
    "    return total_time_list\n"
   ]
  },
  {
   "cell_type": "code",
   "execution_count": 29,
   "metadata": {
    "collapsed": false
   },
   "outputs": [
    {
     "data": {
      "text/plain": [
       "(array([  49.,   98.,  161.,  273.,  203.,   98.,   56.,   35.,    7.,   14.]),\n",
       " array([ 30227.8  ,  30613.703,  30999.606,  31385.509,  31771.412,\n",
       "         32157.315,  32543.218,  32929.121,  33315.024,  33700.927,\n",
       "         34086.83 ]),\n",
       " <a list of 10 Patch objects>)"
      ]
     },
     "execution_count": 29,
     "metadata": {},
     "output_type": "execute_result"
    },
    {
     "data": {
      "image/png": "[encoded data removed]",
      "text/plain": [
       "<matplotlib.figure.Figure at 0x7fa0c0c77908>"
      ]
     },
     "metadata": {},
     "output_type": "display_data"
    }
   ],
   "source": [
    "import numpy as np\n",
    "import matplotlib.pyplot as plt\n",
    "%matplotlib inline\n",
    "time = '07:30'\n",
    "time = get_next_time(time)\n",
    "plt.hist(np.asarray(calculate_distribution(time)))\n",
    "\n",
    "\n",
    "\n"
   ]
  }
 ],
 "metadata": {
  "kernelspec": {
   "display_name": "Python 3",
   "language": "python",
   "name": "python3"
  },
  "language_info": {
   "codemirror_mode": {
    "name": "ipython",
    "version": 3
   },
   "file_extension": ".py",
   "mimetype": "text/x-python",
   "name": "python",
   "nbconvert_exporter": "python",
   "pygments_lexer": "ipython3",
   "version": "3.5.1+"
  },
  "widgets": {
   "state": {},
   "version": "1.1.1"
  }
 },
 "nbformat": 4,
 "nbformat_minor": 0
}
