{
 "cells": [
  {
   "cell_type": "markdown",
   "metadata": {},
   "source": [
    "# Outreach 2016\n",
    "\n",
    "DATE: 2016-06-06\n",
    "\n",
    "TIME: 22:08:00\n",
    "\n",
    "STATUS: URGENT\n",
    "\n",
    "CLASSIFICATION: TOP SECRET\n",
    "\n",
    "MESSAGE BEGINS.\n",
    "\n",
    "There is an exchange between two suspects at a motorway junction outside Heathrow Airport at 09:00 tomorrow morning. During this meeting, they will be transferring two parts of a secret weapon device. The transfer is secured by biometric technology, so we need the transfer to be made and apprehend the two parts together. The suspects are suspicious, and if they have any indication that we are watching them, the transfer will be aborted.\n",
    "\n",
    "Our top operative lives in Southampton. We need them to arrive at this junction as close as possible to the time of the transfer so as not to arouse suspicion.\n",
    "\n",
    "We’ve heard that you're the best upcoming talent in the leading data science department in Southampton. We need you to calculate what time they should leave. Take account of variability of traffic volume. It is better to be slightly late rather than slightly early, since we can still gain valuable intelligence from them as long as no suspicion is aroused.\n",
    "You have 4 hours.\n",
    "\n",
    "We were able to extract some information to assist in your estimation of an appropriate time, and have been able to generate some basic functions to make analysis of the data easier.  All you need to do is analyse the data.  Good luck!\n",
    "\n",
    "MESSAGE ENDS.\n"
   ]
  },
  {
   "cell_type": "markdown",
   "metadata": {},
   "source": [
    "## EXERCISE 0\n",
    "\n",
    "In groups, brainstorm how we might solve this problem."
   ]
  },
  {
   "cell_type": "markdown",
   "metadata": {},
   "source": [
    "## EXERCISE 1\n",
    "Please run the following code every time before starting the exercise.  This helps make sure that all the helper functions are in place.  You can run code by pressing `Crtl` + `Enter`, or `Shift` + `Enter` if you want to move onto the next line."
   ]
  },
  {
   "cell_type": "code",
   "execution_count": 1,
   "metadata": {
    "collapsed": false
   },
   "outputs": [],
   "source": [
    "from magic import *"
   ]
  },
  {
   "cell_type": "markdown",
   "metadata": {},
   "source": [
    "## EXERCISE 2a\n",
    "Compute the amount of time it will take to get from Southampton to Heathrow using data from the first observed time (07:00).  Use the functions below to help you if you wish.\n",
    "\n",
    "Never used Python before?  Don't worry, check out [Python crash course](python_intro.ipynb) before you get started.\n",
    "\n",
    "Experienced programmer?  You might find [outreach_hard.ipynb](outreach_hard.ipynb) more interesting"
   ]
  },
  {
   "cell_type": "code",
   "execution_count": 2,
   "metadata": {
    "collapsed": false
   },
   "outputs": [
    {
     "name": "stdout",
     "output_type": "stream",
     "text": [
      "dict: 1, 190.32\n",
      "dict: 2, 158.85\n",
      "dict: 3, 223.14\n",
      "dict: 4, 93.21\n",
      "dict: 5, 99.45\n",
      "dict: 6, 1342.67\n",
      "dict: 7, 87.55\n",
      "dict: 8, 264.51\n",
      "dict: 9, 257.65\n",
      "dict: 10, 387.22\n",
      "dict: 11, 310.45\n",
      "dict: 12, 623.01\n",
      "dict: 13, 716.88\n",
      "Arrival time: 08:19:14\n"
     ]
    }
   ],
   "source": [
    "from magic import *\n",
    "# Run this to see the data you have\n",
    "leaving_time = '07:00'\n",
    "data = get_data(1, 2013, 1, leaving_time)[0]\n",
    "\n",
    "# Your code goes here!\n",
    "### TODO: ANSWER, remove it!\n",
    "total_time = 0\n",
    "for d in data:    \n",
    "    print(\"dict: %d, %s\" % (d, str(data[d])))\n",
    "\n",
    "    total_time += data[d]\n",
    "\n",
    "print(\"Arrival time: %s\" % get_arrival_time(leaving_time, total_time))\n",
    "### END ANSWER\n"
   ]
  },
  {
   "cell_type": "markdown",
   "metadata": {},
   "source": [
    "## EXERCISE 2b: \n",
    "Generalise your result to leaving every 15 minutes between 05:00 to 09:00.  You may use the function below to help if you would like, or feel free to create your own if it will be easier!"
   ]
  },
  {
   "cell_type": "code",
   "execution_count": 3,
   "metadata": {
    "collapsed": false
   },
   "outputs": [],
   "source": [
    "# Copy your answer from EXERCISE 1a here, and make it into a function called \"calculate_arrivals\".  \n",
    "# Use that to complete this exercise\n",
    "\n",
    "def calculate_arrivals(year, month, leaving_time):\n",
    "    data = get_data(1, '%d' % year, '%d' % month, leaving_time)[0]\n",
    "    # print(\"data: %s\" % str(data))\n",
    "\n",
    "    total_time = 0\n",
    "    for d in data:\n",
    "        # print(\"dict: %d, %s\" % (d, str(data[d])))\n",
    "        total_time += data[d]\n",
    "\n",
    "    return get_arrival_time(leaving_time, total_time)\n",
    "\n",
    "\n",
    "### ANSWER\n",
    "leaving_time = '05:00'\n",
    "# TODO: Get a better loop\n",
    "for lt in range(0, 17):\n",
    "    arr = calculate_arrivals(2013, 1, leaving_time)\n",
    "    #print(\"leaving: %s arriving: %s\" % (leaving_time, arr))\n",
    "    leaving_time = get_next_time(leaving_time)\n",
    "\n",
    "### END ANSWER"
   ]
  },
  {
   "cell_type": "markdown",
   "metadata": {},
   "source": [
    "## EXERCISE 2c: \n",
    "Generalise this to all days in the month, and all months.  Return the results as a dictionary in the format `{leaving_time: [list of arrival times]}`, e.g. `{'08:15': ['08:57:04', '09:16:28', ...]}`"
   ]
  },
  {
   "cell_type": "code",
   "execution_count": 4,
   "metadata": {
    "collapsed": false
   },
   "outputs": [],
   "source": [
    "### ANSWER\n",
    "def loop_calculate_arrivals():\n",
    "    arrivals_dict = {}\n",
    "\n",
    "    # TODO: Get a better loop\n",
    "    for i in range(2012, 2015):\n",
    "        for j in range(1, 12):\n",
    "            leaving_time = '05:00'\n",
    "            for lt in range(0, 17):\n",
    "                arr = calculate_arrivals(i, j, leaving_time)\n",
    "\n",
    "                if not leaving_time in arrivals_dict:\n",
    "                    arrivals_dict[leaving_time] = []\n",
    "                arrivals_dict[leaving_time].append(arr)\n",
    "\n",
    "                leaving_time = get_next_time(leaving_time)\n",
    "    return arrivals_dict\n",
    "\n",
    "arrivals_dict = loop_calculate_arrivals()\n",
    "\n",
    "for ad in arrivals_dict:\n",
    "    # print(\"Leaving at: %s\\nArriving at: %s\" % (ad, str(arrivals_dict[ad])))\n",
    "    pass\n",
    "\n",
    "    \n",
    "### END ANSWER"
   ]
  },
  {
   "cell_type": "markdown",
   "metadata": {},
   "source": [
    "## EXERCISE 3\n",
    "\n",
    "We now have a considerable amount of data, but it doesn't make any sense!  Now we need to make it make sense.  We have somewhere around 500 data points, so very cumbersome to calculate anything by hand.  Luckily, Python is good at automating these things, and has got libraries where clever people have already implemented common descriptive statistics methods far better than I could ever hope to...\n",
    "\n",
    "The technique we are going to use to solve this is linear regression.  \n",
    "\n",
    "\n",
    "## EXERCISE 3a\n",
    "First of all, we're going to get the mean arrival time for each leaving time.  Dealing with time data can be difficult, so we're going to convert the arrival time into the amount of seconds since midnight.  Use the function `get_time_in_seconds(time_str)`, which performs this calculation for you and `time_str` is a time in the format HH:MM:SS.\n",
    "\n",
    "Return two `array`s of each leaving time (as a string) with the mean arrival time (in seconds), e.g., `{'07:00': 25200}`.  To do this, we will use the `mean` function from the numpy library.  This means we will need to import `numpy`, and also use a special `numpy` data structure the array.  \n",
    "\n",
    "An array can be created from a list, by running `np.asarray`, as in the example below"
   ]
  },
  {
   "cell_type": "code",
   "execution_count": 5,
   "metadata": {
    "collapsed": false
   },
   "outputs": [
    {
     "name": "stdout",
     "output_type": "stream",
     "text": [
      "([1, 2, 3, 4], <type 'list'>)\n",
      "(array([1, 2, 3, 4]), <type 'numpy.ndarray'>)\n"
     ]
    },
    {
     "data": {
      "text/plain": [
       "2.5"
      ]
     },
     "execution_count": 5,
     "metadata": {},
     "output_type": "execute_result"
    }
   ],
   "source": [
    "import numpy as np\n",
    "# Create an array object \n",
    "listy = [1, 2, 3, 4]\n",
    "array_obj = np.asarray(listy)\n",
    "print(listy, type(listy))\n",
    "print(array_obj, type(array_obj))\n",
    "\n",
    "# Get the mean of the array object:\n",
    "np.mean(array_obj)"
   ]
  },
  {
   "cell_type": "code",
   "execution_count": 14,
   "metadata": {
    "collapsed": false
   },
   "outputs": [
    {
     "name": "stdout",
     "output_type": "stream",
     "text": [
      "[25200 26100 31500 20700 30600 22500 32400 21600 27000 19800 23400 29700\n",
      " 28800 18000 24300 18900 27900]\n",
      "[ 29156.39393939  30206.3030303   34658.39393939  23378.60606061\n",
      "  33995.36363636  25482.3030303   35437.72727273  24357.21212121\n",
      "  31099.90909091  22457.42424242  26724.24242424  33329.51515152\n",
      "  32593.39393939  20666.78787879  28009.78787879  21551.57575758\n",
      "  31896.90909091]\n"
     ]
    }
   ],
   "source": [
    "# Your code goes here!  \n",
    "# TODO: This is the answer - make sure we take it out!\n",
    "obj = loop_calculate_arrivals()\n",
    "means_output = []\n",
    "cats_output = []\n",
    "for k in obj.keys():\n",
    "    new_list = []\n",
    "    #cats_output.append(datetime.datetime.strptime(k, '%H:%S').timestamp())\n",
    "    cats_output.append(get_time_in_seconds(k))\n",
    "    #print(obj[k])\n",
    "    for li in obj[k]:        \n",
    "        new_list.append(get_time_in_seconds(li))\n",
    "    #print(new_list)\n",
    "    mean = np.mean(np.asarray(new_list))\n",
    "    means_output.append(mean)\n",
    "means_output = np.asarray(means_output)\n",
    "cats_output = np.asarray(cats_output)\n",
    "print(cats_output)\n",
    "print(means_output)"
   ]
  },
  {
   "cell_type": "markdown",
   "metadata": {},
   "source": [
    "## EXERCISE 3b\n",
    "\n",
    "Now we have the mean, we are going to visualise our output.  To do this, we will be using the Python library `pyplot`, which is part of `matplotlib`.  We want to create a scatterplot which has the leaving time as the predictor variable, and the arrival time as the response variable.  \n",
    "\n",
    "Use the `plt.scatter` function to create a scatterplot to visualise our times.  This function takes as its first two parameters:\n",
    "\n",
    "* A list of values for the X axis\n",
    "* A list of values for the Y axis\n",
    "\n",
    "Use the values obtained from Exercise 3a to do this."
   ]
  },
  {
   "cell_type": "code",
   "execution_count": 7,
   "metadata": {
    "collapsed": false
   },
   "outputs": [],
   "source": [
    "# Do the necessary imports\n",
    "import matplotlib.pyplot as plt\n",
    "%matplotlib inline"
   ]
  },
  {
   "cell_type": "code",
   "execution_count": 15,
   "metadata": {
    "collapsed": false
   },
   "outputs": [
    {
     "data": {
      "text/plain": [
       "<matplotlib.collections.PathCollection at 0x7fe7185963d0>"
      ]
     },
     "execution_count": 15,
     "metadata": {},
     "output_type": "execute_result"
    },
    {
     "data": {
      "image/png": "[encoded data removed]",
      "text/plain": [
       "<matplotlib.figure.Figure at 0x7fe7186f1310>"
      ]
     },
     "metadata": {},
     "output_type": "display_data"
    }
   ],
   "source": [
    "plt.scatter(means_output, cats_output)\n"
   ]
  },
  {
   "cell_type": "markdown",
   "metadata": {},
   "source": [
    "## EXERCISE 3c\n",
    "\n",
    "Having done this, we now need to calculate the regression equation, so we can determine the optimal time for leaving.  The graph may look a bit rough at the moment, but that's okay.  We will fix that soon!\n",
    "\n",
    "First, we still need to find the equation, plot the line on the graph, and solve it for 09:00.\n",
    "\n",
    "To solve the equation, we can use the `stats.linregress(first_list, second_list)` in scipy.  Run this now, placing the output into a variable `fx` with the same parameters as you used for the scatter plot, and look at the output:"
   ]
  },
  {
   "cell_type": "code",
   "execution_count": 9,
   "metadata": {
    "collapsed": false
   },
   "outputs": [
    {
     "name": "stdout",
     "output_type": "stream",
     "text": [
      "LinregressResult(slope=0.92848396382319776, intercept=-1289.2022789876573, rvalue=0.99562921918628289, pvalue=7.2967752329263103e-17, stderr=0.022487987191264741)\n",
      "0.928483963823\n",
      "-1289.20227899\n"
     ]
    }
   ],
   "source": [
    "from scipy import stats\n",
    "fx = stats.linregress(means_output, cats_output)\n",
    "print(fx)\n",
    "\n",
    "print fx.slope\n",
    "print(fx.intercept)"
   ]
  },
  {
   "cell_type": "markdown",
   "metadata": {},
   "source": [
    "The output of the function is an object with different values.  We can access these using the dot syntax, i.e., `m = fx.slope`.  We can use these to plot `y = f(x)`, by evaluating `mx + c` as the second parameter in the `plot` function.  Perform the following steps:\n",
    "\n",
    "* Create a variable `m` from `fx.slope`\n",
    "* Create a variable `c` from `fx.intercept`\n",
    "* Plot this equation onto the graph as `plt.plot(cats_output, m * x + c, '-')`"
   ]
  },
  {
   "cell_type": "code",
   "execution_count": 16,
   "metadata": {
    "collapsed": false
   },
   "outputs": [
    {
     "data": {
      "text/plain": [
       "[<matplotlib.lines.Line2D at 0x7fe7185d6450>]"
      ]
     },
     "execution_count": 16,
     "metadata": {},
     "output_type": "execute_result"
    },
    {
     "data": {
      "image/png": "[encoded data removed]",
      "text/plain": [
       "<matplotlib.figure.Figure at 0x7fe7186d4490>"
      ]
     },
     "metadata": {},
     "output_type": "display_data"
    }
   ],
   "source": [
    "m = fx.slope\n",
    "c = fx.intercept\n",
    "plt.scatter(means_output, cats_output)\n",
    "plt.plot(np.asarray(means_output), m * np.asarray(means_output) + c, '-')"
   ]
  },
  {
   "cell_type": "markdown",
   "metadata": {},
   "source": [
    "Now we have a scatter plot, a regression equation, and both are displayed on a graph.  We can use the graph to get an idea for when we should leave, but we can also solve the equation, and this is our next step.  We already have an equation, so we can substitute the values in to get the answer.\n",
    "\n",
    "All we need to do is:\n",
    "\n",
    "* Get the value for 09:00 in seconds rather than the more general case used for the plot\n",
    "* Get the answer from the equationn\n",
    "* Convert the answer from seconds to a time"
   ]
  },
  {
   "cell_type": "code",
   "execution_count": 11,
   "metadata": {
    "collapsed": false
   },
   "outputs": [
    {
     "name": "stdout",
     "output_type": "stream",
     "text": [
      "07:59\n"
     ]
    }
   ],
   "source": [
    "# Your code goes here!\n",
    "y = m * get_time_in_seconds('09:00') + c\n",
    "print(get_time_in_str(y))\n"
   ]
  },
  {
   "cell_type": "markdown",
   "metadata": {
    "collapsed": false
   },
   "source": [
    "## EXERCISE 4 (Optional)\n",
    "\n",
    "We have an answer, so we could go home.  However, we need to show this to our manager, so ideally we'll get the graph to look a bit better.  Here are some improvements you could make.  Reading documentation about functions is an important skill, so the instructions here are brief and you are expected to read through the documentation at the links.  If you have trouble, try [StackOverflow](https://stackoverflow.com), or ask one of the demonstrators.\n",
    "\n",
    "* Label the chart and the axes [docs](http://matplotlib.org/users/pyplot_tutorial.html#id3)\n",
    "* Change the range of the axes using `xlim` and `ylim` [docs](http://matplotlib.org/api/pyplot_api.html#matplotlib.pyplot.xlim)\n",
    "* Change the axes from seconds to a datetime string.  For this we use `xticks` and `yticks` functions, which require an array of labels, e.g., `['07:00', '07:15'.....]` [docs](http://matplotlib.org/api/pyplot_api.html#matplotlib.pyplot.xticks)\n",
    "* Increase the size of the plot.  You will need to specify a `plt.figure` before drawing the plot.  This will specify `figsize=(width,height)` as as parameter\n",
    "* Look at other examples of customisations you can use, for example [here](http://chrisalbon.com/python/matplotlib_simple_scatterplot.html)\n",
    "\n",
    "### Another Solution?\n",
    "\n",
    "There are many ways you could try and solve this problem.  We chose linear regression as an example.  If you've finished this, try and think of another way to solve it, and implement that instead!"
   ]
  },
  {
   "cell_type": "markdown",
   "metadata": {},
   "source": [
    "## Finished!\n",
    "\n",
    "Good work agent, you have completed the task!  The data you sent back to us was vital, and we landed a significant blow against this crime syndicate.  Return to HQ for debriefing and cocktails."
   ]
  }
 ],
 "metadata": {
  "kernelspec": {
   "display_name": "Python 2",
   "language": "python",
   "name": "python2"
  },
  "language_info": {
   "codemirror_mode": {
    "name": "ipython",
    "version": 2
   },
   "file_extension": ".py",
   "mimetype": "text/x-python",
   "name": "python",
   "nbconvert_exporter": "python",
   "pygments_lexer": "ipython2",
   "version": "2.7.11"
  },
  "widgets": {
   "state": {},
   "version": "1.1.1"
  }
 },
 "nbformat": 4,
 "nbformat_minor": 0
}
