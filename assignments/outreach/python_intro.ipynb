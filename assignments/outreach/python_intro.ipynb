{
 "cells": [
  {
   "cell_type": "markdown",
   "metadata": {},
   "source": [
    "# A Brief Introduction to Python\n",
    "\n",
    "We're going to make use of the Python programming language to solve this problem.  This section will give a bit of background about Python syntax.\n",
    "\n",
    "We will start with the concept of a variable, which is merely a representation of a changeable value.  There are a few special words which you cannot call a variable, such as `class`, otherwise most combinations of letters, numbers and underscores can be used.  Variables are case sensitive.  \n",
    "\n",
    "Run the example below by focusing on the cell, and then pressing `Crtl` + `Enter`\n"
   ]
  },
  {
   "cell_type": "code",
   "execution_count": 4,
   "metadata": {
    "collapsed": false
   },
   "outputs": [],
   "source": [
    "x = 10\n",
    "y = 20\n",
    "print(x == y)\n",
    "text = 'x * y =' \n",
    "print(text, (x * y))\n",
    "x = 20\n",
    "print(text, (x * y))\n",
    "print(x == y)"
   ]
  },
  {
   "cell_type": "markdown",
   "metadata": {},
   "source": [
    "## Variables\n",
    "\n",
    "There we have an example of different types of variables: integers and a string.  The string is surrounded by either `''` or `\"\"`, and can be any combination of numbers and letters.\n",
    "\n",
    "Integers are just defined as they are.  The same can be said for the `float` type, which is any real number, though very large numbers are restricted.\n",
    "\n",
    "We also used booleans, which are simple True/False values.  Boolean statements are known as conditionals, and are used to decide whether to run certain blocks of code.\n",
    "\n",
    "Finally, we are using the `print` function to output the value to the screen.  All the values we want to output are separated by the commas within parentheses.  These are called parameters, and will be used within the function.  Like a mathematical function, as these values change, so too does the output.\n",
    "\n",
    "The `print` function is a part of Python, but we can also write our own functions.  This makes it possible to logically order our code better, and to only have to write how to do a particular task once.  A function which I wrote to help for this exercise is called `get_csv`, which gets the data for the exercise which is stored in a csv file.  The parameters the function takes are:\n",
    "\n",
    "- `group_no` What number group you are.  If you are just doing on your own, pick a number between 1 and 7.\n",
    "- `year` The year as a 4 digit number, between 2012 and 2015\n",
    "- `month` The month as an integer between 1 and 12\n",
    "- `amount_of_lines` The amount of lines of the CSV file to return\n",
    "- `show_headers` Whether to show the headers of the CSV columns.  Default value: `False`\n",
    "\n",
    "### Aside: What is a CSV File?\n",
    "\n",
    "CSV stands for \"comma-separated values\", and is a simple file format which holds data as a series of rows which are separated by commas.  It can be opened by Microsoft Excel but is easier to use for programming because it's just plain text and not a proprietary format."
   ]
  },
  {
   "cell_type": "markdown",
   "metadata": {},
   "source": [
    "Here is an example of the function in action, where it gets the first 10 lines from December 2012 for group 1.  Run it, and look at the output"
   ]
  },
  {
   "cell_type": "code",
   "execution_count": null,
   "metadata": {
    "collapsed": true
   },
   "outputs": [],
   "source": [
    "stringy = get_csv(1, 2012, 12, 10, True)\n",
    "print(stringy)"
   ]
  },
  {
   "cell_type": "markdown",
   "metadata": {},
   "source": [
    "Now try running the code yourself.  Experiment with different values for the parameters and see what happens.  You should also try using incorrect values to see what happens."
   ]
  },
  {
   "cell_type": "code",
   "execution_count": null,
   "metadata": {
    "collapsed": true
   },
   "outputs": [],
   "source": [
    "# Your code goes here!"
   ]
  },
  {
   "cell_type": "markdown",
   "metadata": {},
   "source": [
    "## Blocks of Code and Booleans\n",
    "\n",
    "In Python, the indentation of code is important.  So important, that, if it is not correct it will not run at all.  Most programming environments which support Python will do this automatically, but it is important to know to expect it.\n",
    "\n",
    "Each new \"block\" of code MUST be indented by the same amount of spaces.  An important example of this is where we use an `if` statement to decide whether to run the next bit of code.  If statements evaluate the result of a boolean variable (`True` or `False`).\n",
    "\n",
    "Rather than just using `if`, we can also decide what to do in other situations.  So, we have\n",
    "\n",
    "    if .....\n",
    "    elif ....\n",
    "    else\n",
    "\n",
    "Which, in English, would be: if situation a, do something.  If situation b, do something else.  In all other situations, do something completely different.\n",
    "\n",
    "Look at the example below, and play about with the different values to see how it works.  Try and get every different outcome!\n"
   ]
  },
  {
   "cell_type": "code",
   "execution_count": null,
   "metadata": {
    "collapsed": true
   },
   "outputs": [],
   "source": [
    "x = 0\n",
    "if 0 == 1: # Will never run!`\n",
    "    print(\"If this is running, something has gone wrong!\")\n",
    "else:\n",
    "    print(\"If this is running, then we can relax!\")\n",
    "    x = 42\n",
    "\n",
    "print(x)\n",
    "          \n",
    "# We can use variables to make these checks as well          \n",
    "x = 42\n",
    "if x > 42:\n",
    "    print(\"x is greater than 41\")\n",
    "elif x == 42:\n",
    "    print(\"x is equal to 42\")\n",
    "else:\n",
    "    print(\"x is less than 42\")"
   ]
  },
  {
   "cell_type": "markdown",
   "metadata": {},
   "source": [
    "## Loops, Lists, and Dictionaries\n",
    "\n",
    "The final thing to know about is loops and lists.  A loop is another example of a code block, and everything within that block will be executed for a certain set of conditions.  The most common way that this might work is by working over each element in a list.\n",
    "\n",
    "Look at the example below, and run it:\n"
   ]
  },
  {
   "cell_type": "code",
   "execution_count": 22,
   "metadata": {
    "collapsed": false
   },
   "outputs": [],
   "source": [
    "listy = [1, '4', 9, 16, 25, '6 x 6', 49, 64, 81, 100, \"Have we finished yet?\", 0 == 1]\n",
    "listy.append(True)\n",
    "for li in listy:    \n",
    "    print(li)\n"
   ]
  },
  {
   "cell_type": "markdown",
   "metadata": {},
   "source": [
    "This example shows you three things.  \n",
    "\n",
    "* Firstly, how a list is set out - it is a series of values separated by commas.\n",
    "* Secondly, it shows how to add an element to the list, `append()` adds an item onto the end\n",
    "* It shows how to iterate through a list\n",
    "\n",
    "The format for a loop is similar to English like a lot of Python which is one of the reasons for its popularity.  All that's saying is \"for each item called li in the list listy do the following things\".  In this case, we took the variable `li`, and printed it.\n",
    "\n",
    "Elements of a loop are numbered, so you can access an individual element by using its index.  For historical reasons, a lot of programming languages start at `0`, and Python is no exception.  So for a list of `n` items, the series of indexes are `0, 1, ..., n-1`.\n",
    "\n",
    "The first element is accessed like this:\n",
    "\n",
    "`var_name = listy[0]`\n",
    "\n",
    "It would also be possible, and preferable in some situations, to iterate through the loop accessing elements by index.  This uses the `range` function, and can be done as follows:\n"
   ]
  },
  {
   "cell_type": "code",
   "execution_count": 19,
   "metadata": {
    "collapsed": false
   },
   "outputs": [],
   "source": [
    "# Run this code\n",
    "for li in range(2, len(listy)):\n",
    "    print(li)"
   ]
  },
  {
   "cell_type": "markdown",
   "metadata": {},
   "source": [
    "This might look a bit complicated, because we're using the output of a function as a parameter.  That's okay, we can just evaluate them one at a time.\n",
    "\n",
    "`len(listy)` takes a list as a parameter, and returns the length of the list.  In the case of `listy`, there are 13 elements, so that number is returned.  This means that we are calling the `range` function as: `range(13)`.\n",
    "\n",
    "The `range` function takes a number `n` as a parameter, and returns a list from `0` to `n-1` (there are more options with this function, but we won't go into them here).  \n",
    "\n",
    "### Dictionaries\n",
    "\n",
    "Another Python data structure is a dictionary, which is a series of key/value pairs.  The key/values are represented within curly brackets as  `{key: value}`, separated by commas.  They can be operated on in a similar way to lists, except that the key is taking the place of the index.  The keys can be iterated over in the same way as a list.  See the following example:"
   ]
  },
  {
   "cell_type": "code",
   "execution_count": 25,
   "metadata": {
    "collapsed": false
   },
   "outputs": [
    {
     "name": "stdout",
     "output_type": "stream",
     "text": [
      "ghi 789\n",
      "abc 123\n",
      "def 456\n"
     ]
    }
   ],
   "source": [
    "dicty = {'abc': 123, 'def': 456, 'ghi': 789}\n",
    "for d in dicty:\n",
    "    print(d, dicty[d])\n",
    "    "
   ]
  },
  {
   "cell_type": "markdown",
   "metadata": {},
   "source": [
    "In the example, we print both the key (as `d`) and the value, using `d` as an index.  There are a couple of things to be careful of when dealing with dictionaries compared to lists:\n",
    "\n",
    "* Order is not guaranteed.  Just because you add something first does not necessarily mean that it will be iterated first.\n",
    "* Keys are unique.  If we were to add another pair with a key `'ghi'`, it would overwrite the existing value (see below)\n",
    "* If you try to access a key which is not in the dictionary, it will give an error.  We can check this using the format: `if 'ghi' in dicty:`\n",
    "\n",
    "The following code will illustrate this"
   ]
  },
  {
   "cell_type": "code",
   "execution_count": null,
   "metadata": {
    "collapsed": false
   },
   "outputs": [],
   "source": [
    "print(dicty)\n",
    "dicty['ghi'] = 'Different value!'\n",
    "print(dicty)\n",
    "\n",
    "if 'ghi' in dicty:\n",
    "    print(dicty['ghi'])\n",
    "    \n",
    "if 'jkl' in dicty:\n",
    "    print(dicty['ghi'])\n",
    "else:\n",
    "    print(\"The key jkl doesn't exist\")"
   ]
  },
  {
   "cell_type": "markdown",
   "metadata": {},
   "source": [
    "## Onwards!\n",
    "\n",
    "This was a quick introduction to Python.  The only way to learn properly is to practice, so go back to the [main worksheet](./outreachv2.ipynb) and start practicing!"
   ]
  }
 ],
 "metadata": {
  "kernelspec": {
   "display_name": "Python 3",
   "language": "python",
   "name": "python3"
  },
  "language_info": {
   "codemirror_mode": {
    "name": "ipython",
    "version": 3
   },
   "file_extension": ".py",
   "mimetype": "text/x-python",
   "name": "python",
   "nbconvert_exporter": "python",
   "pygments_lexer": "ipython3",
   "version": "3.5.1+"
  }
 },
 "nbformat": 4,
 "nbformat_minor": 0
}
