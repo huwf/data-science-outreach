{
 "cells": [
  {
   "cell_type": "markdown",
   "metadata": {},
   "source": [
    "# Outreach 2016\n",
    "\n",
    "DATE: 2016-06-06\n",
    "\n",
    "TIME: 22:08:00\n",
    "\n",
    "STATUS: URGENT\n",
    "\n",
    "CLASSIFICATION: TOP SECRET\n",
    "\n",
    "MESSAGE BEGINS.\n",
    "\n",
    "There is an exchange between two suspects at a motorway junction outside Heathrow Airport at 09:00 tomorrow morning. During this meeting, they will be transferring two parts of a secret weapon device. The transfer is secured by biometric technology, so we need the transfer to be made and apprehend the two parts together. The suspects are suspicious, and if they have any indication that we are watching them, the transfer will be aborted.\n",
    "\n",
    "Our top operative lives in Southampton. We need them to arrive at this junction as close as possible to the time of the transfer so as not to arouse suspicion.\n",
    "\n",
    "We’ve heard that you're the best upcoming talent in the leading data science department in Southampton. We need you to calculate what time they should leave. Take account of variability of traffic volume. It is better to be slightly late rather than slightly early, since we can still gain valuable intelligence from them as long as no suspicion is aroused.\n",
    "You have 4 hours.\n",
    "\n",
    "We were able to extract some information to assist in your estimation of an appropriate time, and have been able to generate some basic functions to make analysis of the data easier.  All you need to do is analyse the data.\n",
    "\n",
    "MESSAGE ENDS.\n"
   ]
  },
  {
   "cell_type": "markdown",
   "metadata": {},
   "source": [
    "## EXERCISE 1a\n",
    "Compute the amount of time it will take to get from Southampton to Heathrow using data from the first observed time (07:00).  Use the functions below to help you if you wish.\n",
    "NOTE: Those with programming experience may find the alternative more challenging at [outreach_hard.ipynb](outreach_hard.ipynb)"
   ]
  },
  {
   "cell_type": "code",
   "execution_count": 32,
   "metadata": {
    "collapsed": false
   },
   "outputs": [
    {
     "name": "stdout",
     "output_type": "stream",
     "text": [
      "dict: 1, 190.32\n",
      "dict: 2, 158.85\n",
      "dict: 3, 223.14\n",
      "dict: 4, 93.21\n",
      "dict: 5, 99.45\n",
      "dict: 6, 1342.67\n",
      "dict: 7, 87.55\n",
      "dict: 8, 264.51\n",
      "dict: 9, 257.65\n",
      "dict: 10, 387.22\n",
      "dict: 11, 310.45\n",
      "dict: 12, 623.01\n",
      "dict: 13, 716.88\n",
      "Arrival time: 08:19:14\n"
     ]
    }
   ],
   "source": [
    "import csv\n",
    "import datetime\n",
    "\n",
    "# --------------------------------MAGIC----------------------\n",
    "\n",
    "\n",
    "def get_data(group_no, year, month, time='07:00', hard=False):\n",
    "    '''\n",
    "    :param group_no: The group number we assigned you\n",
    "    :param year: the year for the data.  Values between 2011 and 2013\n",
    "    :param month: the month for the data.  1 is January, 12 is December\n",
    "    :param time: Default 07:00.  The time of interest.  This should be a string in padded 24 hour format,\n",
    "    e.g. 07:00, 14:00\n",
    "    :param hard: Default False.  Specifies whether this function is being used for the standard or \"hard\" version\n",
    "    of the question.\n",
    "    :return: A dictionary of the data for the whole route at the time of interest for every day found.\n",
    "    If hard is True, then it will return as {time: {junction: segment_time}}\n",
    "    '''\n",
    "    data_dict = {}\n",
    "    year = str(year)\n",
    "    month = str(month)\n",
    "    if len(month) == 1:\n",
    "        month = '0%s' % month\n",
    "\n",
    "    with open('group%d/%s-%s.csv' % (group_no, year, month)) as f:\n",
    "        reader = csv.reader(f)\n",
    "        for row in reader:\n",
    "            if row[1].strip() == 'Date':\n",
    "                continue\n",
    "            junction = int(row[0])\n",
    "            segment_time = row[2]\n",
    "            journey_time = float(row[3].strip())\n",
    "            day = int(row[1].split('-')[2])\n",
    "\n",
    "            if not hard and not segment_time.strip() == time:\n",
    "                continue\n",
    "            if day not in data_dict:\n",
    "                data_dict[day] = {}\n",
    "            if not hard:\n",
    "                data_dict[day][junction] = float(journey_time)\n",
    "            else:\n",
    "                if segment_time not in data_dict[day]:\n",
    "                    data_dict[day][segment_time] = {}\n",
    "                data_dict[day][segment_time][junction] = float(journey_time)\n",
    "\n",
    "        return_list = []\n",
    "        for d in sorted(data_dict.keys()):\n",
    "            return_list.append(data_dict[d])\n",
    "        return return_list\n",
    "\n",
    "\n",
    "def get_arrival_time(leaving_time, total_seconds):\n",
    "    '''\n",
    "\n",
    "    :param leaving_time: The leaving time.  Must be in the format HH:MM (24 hour)\n",
    "    :param total_seconds: The amount of time the journey takes in seconds\n",
    "    :return: a datetime object of the arrival time\n",
    "    '''\n",
    "    leaving = datetime.datetime.strptime(leaving_time, \"%H:%M\")\n",
    "    arrival = leaving + datetime.timedelta(seconds=total_seconds)\n",
    "\n",
    "    return datetime.datetime.strftime(arrival, \"%H:%M:%S\")\n",
    "\n",
    "# ----------------------------END MAGIC----------------------\n",
    "\n",
    "# Run this to see the data you have\n",
    "leaving_time = '07:00'\n",
    "data = get_data(1, 2013, 1, leaving_time)[0]\n",
    "#print(\"data: %s\" % str(data))\n",
    "\n",
    "# Your code goes here!\n",
    "### ANSWER!\n",
    "total_time = 0\n",
    "for d in data:    \n",
    "    print(\"dict: %d, %s\" % (d, str(data[d])))\n",
    "\n",
    "    total_time += data[d]\n",
    "\n",
    "print(\"Arrival time: %s\" % get_arrival_time(leaving_time, total_time))\n",
    "### END ANSWER\n"
   ]
  },
  {
   "cell_type": "markdown",
   "metadata": {},
   "source": [
    "## EXERCISE 1b: \n",
    "Generalise your result to leaving every 15 minutes between 05:00 to 09:00.  You may use the function below to help if you would like, or feel free to create your own if it will be easier!"
   ]
  },
  {
   "cell_type": "code",
   "execution_count": 33,
   "metadata": {
    "collapsed": false
   },
   "outputs": [
    {
     "name": "stdout",
     "output_type": "stream",
     "text": [
      "leaving: 05:00 arriving: 05:43:39\n",
      "leaving: 05:15 arriving: 05:58:36\n",
      "leaving: 05:30 arriving: 06:14:13\n",
      "leaving: 05:45 arriving: 06:30:04\n",
      "leaving: 06:00 arriving: 06:46:36\n",
      "leaving: 06:15 arriving: 07:05:03\n",
      "leaving: 06:30 arriving: 07:26:17\n",
      "leaving: 06:45 arriving: 08:03:13\n",
      "leaving: 07:00 arriving: 08:19:14\n",
      "leaving: 07:15 arriving: 08:40:08\n",
      "leaving: 07:30 arriving: 08:52:36\n",
      "leaving: 07:45 arriving: 09:08:25\n",
      "leaving: 08:00 arriving: 09:12:40\n",
      "leaving: 08:15 arriving: 09:24:48\n",
      "leaving: 08:30 arriving: 09:31:30\n",
      "leaving: 08:45 arriving: 09:43:00\n",
      "leaving: 09:00 arriving: 09:54:43\n"
     ]
    }
   ],
   "source": [
    "\n",
    "def get_next_time(time):\n",
    "    current_time = datetime.datetime.strptime(time, \"%H:%M\")\n",
    "    return datetime.datetime.strftime(current_time + datetime.timedelta(minutes=15), \"%H:%M\")\n",
    "\n",
    "# Copy your answer from EXERCISE 1a here, and make it into a function called \"calculate_arrivals\".  \n",
    "# Use that to complete this exercise\n",
    "\n",
    "def calculate_arrivals(year, month, leaving_time):\n",
    "    data = get_data(1, '%d' % year, '%d' % month, leaving_time)[0]\n",
    "    # print(\"data: %s\" % str(data))\n",
    "\n",
    "    total_time = 0\n",
    "    for d in data:\n",
    "        # print(\"dict: %d, %s\" % (d, str(data[d])))\n",
    "        total_time += data[d]\n",
    "\n",
    "    return get_arrival_time(leaving_time, total_time)\n",
    "\n",
    "\n",
    "### ANSWER\n",
    "leaving_time = '05:00'\n",
    "# TODO: Get a better loop\n",
    "for lt in range(0, 17):\n",
    "    arr = calculate_arrivals(2013, 1, leaving_time)\n",
    "    print(\"leaving: %s arriving: %s\" % (leaving_time, arr))\n",
    "    leaving_time = get_next_time(leaving_time)\n",
    "\n",
    "### END ANSWER"
   ]
  },
  {
   "cell_type": "markdown",
   "metadata": {},
   "source": [
    "## EXERCISE 1c: \n",
    "Generalise this to all days in the month, and all months.  Return the results as a dictionary in the format `{leaving_time: [list of arrival times]}`, e.g. `{'08:15': ['08:57:04', '09:16:28', ...]}`"
   ]
  },
  {
   "cell_type": "code",
   "execution_count": 34,
   "metadata": {
    "collapsed": false
   },
   "outputs": [],
   "source": [
    "### ANSWER\n",
    "def loop_calculate_arrivals():\n",
    "    arrivals_dict = {}\n",
    "\n",
    "    # TODO: Get a better loop\n",
    "    for i in range(2012, 2015):\n",
    "        for j in range(1, 12):\n",
    "            leaving_time = '05:00'\n",
    "            for lt in range(0, 17):\n",
    "                arr = calculate_arrivals(i, j, leaving_time)\n",
    "\n",
    "                if not leaving_time in arrivals_dict:\n",
    "                    arrivals_dict[leaving_time] = []\n",
    "                arrivals_dict[leaving_time].append(arr)\n",
    "\n",
    "                leaving_time = get_next_time(leaving_time)\n",
    "    return arrivals_dict\n",
    "\n",
    "arrivals_dict = loop_calculate_arrivals()\n",
    "\n",
    "for ad in arrivals_dict:\n",
    "    # print(\"Leaving at: %s\\nArriving at: %s\" % (ad, str(arrivals_dict[ad])))\n",
    "    pass\n",
    "\n",
    "    \n",
    "### END ANSWER"
   ]
  },
  {
   "cell_type": "markdown",
   "metadata": {},
   "source": [
    "# EXERCISE 2\n",
    "\n",
    "We now have a considerable amount of data, but it doesn't make any sense!  Now we need to make it make sense.  We have somewhere around 500 data points, so very cumbersome to calculate anything by hand.  Luckily, Python is good at automating these things, and has got libraries where clever people have already implemented common descriptive statistics methods far better than I could ever hope to...\n",
    "\n",
    "We're going to use a library called `scipy` to do these calculations for us, and then in EXERCISE 3 we're going to use `matplotlib` to visualise our results.  To start, create a variable called `x` using the function you created in EXERCISE 1c."
   ]
  },
  {
   "cell_type": "code",
   "execution_count": 44,
   "metadata": {
    "collapsed": false
   },
   "outputs": [
    {
     "name": "stdout",
     "output_type": "stream",
     "text": [
      "[[datetime.datetime(1900, 1, 1, 9, 28, 15)\n",
      "  datetime.datetime(1900, 1, 1, 9, 34, 3)\n",
      "  datetime.datetime(1900, 1, 1, 9, 31, 14) ...,\n",
      "  datetime.datetime(1900, 1, 1, 8, 27, 39)\n",
      "  datetime.datetime(1900, 1, 1, 8, 39, 44)\n",
      "  datetime.datetime(1900, 1, 1, 8, 33, 5)]\n",
      " [datetime.datetime(1900, 1, 1, 8, 45) datetime.datetime(1900, 1, 1, 8, 45)\n",
      "  datetime.datetime(1900, 1, 1, 8, 45) ...,\n",
      "  datetime.datetime(1900, 1, 1, 7, 15) datetime.datetime(1900, 1, 1, 7, 15)\n",
      "  datetime.datetime(1900, 1, 1, 7, 15)]]\n"
     ]
    }
   ],
   "source": [
    "import scipy as sp\n",
    "\n",
    "x = loop_calculate_arrivals()\n",
    "listy = [1,2,3,4]\n",
    "\n",
    "import datetime\n",
    "\n",
    "\n",
    "def get_scipy_array(input_dict):\n",
    "    leaving_time_list = []\n",
    "    arrival_time_list = []\n",
    "    for k in input_dict:\n",
    "        listy = input_dict[k]\n",
    "        leaving_time = datetime.datetime.strptime(k, '%H:%M')\n",
    "        for li in listy:\n",
    "            arrival_time_list.append(datetime.datetime.strptime(li, '%H:%M:%S'))\n",
    "            leaving_time_list.append(leaving_time)\n",
    "    #print(leaving_time_list)\n",
    "    #print(arrival_time_list)\n",
    "    return sp.array([arrival_time_list, leaving_time_list])\n",
    "\n",
    "print(get_scipy_array(x))"
   ]
  },
  {
   "cell_type": "markdown",
   "metadata": {},
   "source": [
    "# Practice\n",
    "\n",
    "Here is me practicing some numpy stuff"
   ]
  },
  {
   "cell_type": "code",
   "execution_count": 3,
   "metadata": {
    "collapsed": false
   },
   "outputs": [
    {
     "name": "stdout",
     "output_type": "stream",
     "text": [
      "a [0 1 2 3 4 5 6 7 8 9]\n",
      "b [1 3 5 7 9]\n",
      "c [ 0.   0.2  0.4  0.6  0.8  1. ]\n",
      "d [ 0.          0.16666667  0.33333333  0.5         0.66666667  0.83333333]\n"
     ]
    }
   ],
   "source": [
    "import numpy as np\n",
    "a = np.arange(10)\n",
    "print(\"a\", a)\n",
    "\n",
    "b = np.arange(1,10,2) # start, end (exclusive), step\n",
    "print(\"b\", b)\n",
    "\n",
    "c = np.linspace(0,1,6) # Creates 6 points equally spaced between 0 and 1 (inclusive)\n",
    "print(\"c\", c)\n",
    "\n",
    "d = np.linspace(0,1,6,endpoint=False)\n",
    "print(\"d\", d)\n",
    "     "
   ]
  },
  {
   "cell_type": "code",
   "execution_count": 73,
   "metadata": {
    "collapsed": false
   },
   "outputs": [
    {
     "name": "stdout",
     "output_type": "stream",
     "text": [
      "a [[ 1.  1.  1.]\n",
      " [ 1.  1.  1.]\n",
      " [ 1.  1.  1.]]\n",
      "b [[ 0.  0.  0.]\n",
      " [ 0.  0.  0.]\n",
      " [ 0.  0.  0.]]\n"
     ]
    }
   ],
   "source": [
    "a = np.ones((3,3)) # 3 x 3 array of 1\n",
    "print(\"a\", a)\n",
    "\n",
    "b = np.zeros((3,3)) # Of 0...\n",
    "print(\"b\", b)\n"
   ]
  },
  {
   "cell_type": "code",
   "execution_count": 76,
   "metadata": {
    "collapsed": false
   },
   "outputs": [
    {
     "name": "stdout",
     "output_type": "stream",
     "text": [
      "a [ 0.71295996  0.75161043  0.37873317  0.54503035]\n",
      "b [ 0.35933728 -0.84909502 -0.55375717  1.49980598]\n"
     ]
    }
   ],
   "source": [
    "a = np.random.rand(4) # uniform in [0,1].  Using Mersenne Twister PRNG\n",
    "print(\"a\", a)\n",
    "\n",
    "b = np.random.randn(4) # Gaussian\n",
    "print(\"b\", b)\n",
    "\n",
    "np.random.seed(1234) # Sets the random seed\n"
   ]
  },
  {
   "cell_type": "code",
   "execution_count": 4,
   "metadata": {
    "collapsed": false
   },
   "outputs": [
    {
     "name": "stdout",
     "output_type": "stream",
     "text": [
      "c [ 1.  2.  3.] dtype:  float64\n"
     ]
    }
   ],
   "source": [
    "# Specify the data type.  By default\n",
    "c = np.array([1,2,3], dtype=float)\n",
    "print(\"c\", c, \"dtype: \", c.dtype)\n"
   ]
  },
  {
   "cell_type": "code",
   "execution_count": 8,
   "metadata": {
    "collapsed": false
   },
   "outputs": [
    {
     "data": {
      "text/plain": [
       "[<matplotlib.lines.Line2D at 0x7f56e503a390>]"
      ]
     },
     "execution_count": 8,
     "metadata": {},
     "output_type": "execute_result"
    },
    {
     "data": {
      "image/png": "[encoded data removed]",
      "text/plain": [
       "<matplotlib.figure.Figure at 0x7f56e50e0518>"
      ]
     },
     "metadata": {},
     "output_type": "display_data"
    }
   ],
   "source": [
    "%matplotlib inline\n",
    "import matplotlib.pyplot as plt\n",
    "\n",
    "# if we don't enable %matplotlib inline, we also need to run plt.show()\n",
    "\n",
    "x = np.linspace(0,3,20)\n",
    "y = np.linspace(0,9,20)\n",
    "\n",
    "plt.plot(x, y, 'ox')"
   ]
  }
 ],
 "metadata": {
  "kernelspec": {
   "display_name": "Python 3",
   "language": "python",
   "name": "python3"
  },
  "language_info": {
   "codemirror_mode": {
    "name": "ipython",
    "version": 3
   },
   "file_extension": ".py",
   "mimetype": "text/x-python",
   "name": "python",
   "nbconvert_exporter": "python",
   "pygments_lexer": "ipython3",
   "version": "3.5.1"
  }
 },
 "nbformat": 4,
 "nbformat_minor": 0
}
