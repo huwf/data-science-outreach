{
 "cells": [
  {
   "cell_type": "markdown",
   "metadata": {},
   "source": [
    "## Exercise 1a: Hard\n",
    "\n",
    "Whilst the model for collecting data will get us what we want is a good start, it makes one big assumption: That the time segment we are in will remain the same for the whole journey.  More accurate results could be obtained if you keep track of the amount of time each bit of the journey takes.\n",
    "\n",
    "For example, suppose you leave at 07:00, and the first segment is 16 minutes.  For the second segment, you should use the estimated time for 07:15.\n",
    "\n",
    "You may assume that the entirety of the time on any one segment is the one you left in.  Should you wish to expand the model even further in some way you may do so, provided that you document it (good practice anyway!)\n",
    "\n",
    "You should still use the other exercise sheet, but make sure you add hard=True as a parameter so you get all the data you need."
   ]
  },
  {
   "cell_type": "code",
   "execution_count": null,
   "metadata": {
    "collapsed": true
   },
   "outputs": [],
   "source": []
  }
 ],
 "metadata": {
  "kernelspec": {
   "display_name": "Python 3",
   "language": "python",
   "name": "python3"
  },
  "language_info": {
   "codemirror_mode": {
    "name": "ipython",
    "version": 3
   },
   "file_extension": ".py",
   "mimetype": "text/x-python",
   "name": "python",
   "nbconvert_exporter": "python",
   "pygments_lexer": "ipython3",
   "version": "3.5.1"
  }
 },
 "nbformat": 4,
 "nbformat_minor": 0
}
