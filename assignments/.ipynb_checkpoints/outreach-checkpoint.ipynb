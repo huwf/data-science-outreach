{
 "cells": [
  {
   "cell_type": "markdown",
   "metadata": {},
   "source": [
    "# Outreach Exercise July 2016\n",
    "\n",
    "DATE: 2016-06-06\n",
    "\n",
    "TIME: 21:43:00\n",
    "\n",
    "STATUS: URGENT\n",
    "\n",
    "CLASSIFICATION: TOP SECRET\n",
    "\n",
    "MESSAGE BEGINS.\n",
    "\n",
    "There is an exchange between two suspects at a motorway junction outside Heathrow Airport at 09:00 tomorrow morning.  During this meeting, they will be transferring two parts of a secret weapon thing.  The transfer is secured by biometric technology, so we need the transfer to be made and apprehend the two together.  They are suspicious, and if they have any indication that we are watching them, the transfer will be cancelled.\n",
    "\n",
    "Our top operative lives in Southampton.  We need them to arrive at this junction as close as possible to the time of the transfer so as not to arouse suspicion.\n",
    "\n",
    "You're the best data scientist in the organisation.  We need you to calculate what time they should leave.  Take account of variability of traffic volume.  It is better to be slightly late rather than slightly early, since we can still gain valuable intelligence from them as long as no suspicion is aroused.\n",
    "\n",
    "You have 4 hours.\n",
    "\n",
    "MESSAGE ENDS."
   ]
  },
  {
   "cell_type": "markdown",
   "metadata": {},
   "source": [
    "We have been able to acquire data from the government which will give you a good estimation of the time to leave.  Further, we have had time to add some code to make it easier.  However, you are the data scientist.  You need to complete this work."
   ]
  },
  {
   "cell_type": "code",
   "execution_count": 1,
   "metadata": {
    "collapsed": true
   },
   "outputs": [],
   "source": [
    "# NOTE: THIS CODE IS BROKEN!\n",
    "import csv\n",
    "import datetime\n",
    "\n",
    "# --------------------------------MAGIC----------------------\n",
    "\n",
    "\n",
    "def get_data(group_no, year, month, time='07:00'):\n",
    "    data_dict = {}\n",
    "    year = str(year)\n",
    "    month = str(month)\n",
    "    if len(month) == 1:\n",
    "        month = '0%s' % month\n",
    "\n",
    "    with open('group%d/%s-%s.csv' % (group_no, year, month)) as f:\n",
    "        reader = csv.reader(f)\n",
    "        for row in reader:\n",
    "            if row[1].strip() != 'Date':\n",
    "                #print(row[1])\n",
    "                day = int(row[1].split('-')[2])\n",
    "                if not row[2].strip() == time:\n",
    "                    continue\n",
    "                if not day in data_dict:\n",
    "                    data_dict[day] = {}\n",
    "                else:\n",
    "                    data_dict[day][int(row[0])] = float(row[3].strip())\n",
    "\n",
    "        return_list = []\n",
    "        # We don't really need keys, so it's easier to iterate over a list\n",
    "        # Will probably make it easier to generalise the results and do stats on them later as well.\n",
    "        for d in sorted(data_dict.keys()):\n",
    "            return_list.append(data_dict[d])\n",
    "\n",
    "        return return_list\n",
    "\n",
    "\n",
    "def get_arrival_time(leaving_time, total_seconds):\n",
    "    '''\n",
    "    :param leaving_time: The leaving time.  Must be in the format HH:MM (24 hour)\n",
    "    :param total_seconds: The amount of time the journey takes in seconds\n",
    "    :return: a datetime object of the arrival time\n",
    "    '''\n",
    "    leaving = datetime.datetime.strptime(leaving_time, \"%H:%M\")\n",
    "    arrival = leaving + datetime.timedelta(seconds=total_seconds)\n",
    "\n",
    "    return datetime.datetime.strftime(arrival, \"%H:%M:%S\")\n",
    "# -------------------------------END MAGIC -----------------------------"
   ]
  },
  {
   "cell_type": "markdown",
   "metadata": {},
   "source": [
    "## Exercise 1 \n",
    "Create a script which calculates the arrival time to get from Southampton to Heathrow using the first observation in the data, from January 2013.  Add your group number to the code to be able to get the data.  You can run the code by pressing `crtl + enter`"
   ]
  }
 ],
 "metadata": {
  "kernelspec": {
   "display_name": "Python 3",
   "language": "python",
   "name": "python3"
  },
  "language_info": {
   "codemirror_mode": {
    "name": "ipython",
    "version": 3
   },
   "file_extension": ".py",
   "mimetype": "text/x-python",
   "name": "python",
   "nbconvert_exporter": "python",
   "pygments_lexer": "ipython3",
   "version": "3.4.3"
  }
 },
 "nbformat": 4,
 "nbformat_minor": 0
}
